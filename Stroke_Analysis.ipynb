{
  "nbformat": 4,
  "nbformat_minor": 0,
  "metadata": {
    "colab": {
      "name": "Stroke_Analysis.ipynb",
      "provenance": [],
      "include_colab_link": true
    },
    "kernelspec": {
      "name": "python3",
      "display_name": "Python 3"
    },
    "language_info": {
      "name": "python"
    }
  },
  "cells": [
    {
      "cell_type": "markdown",
      "metadata": {
        "id": "view-in-github",
        "colab_type": "text"
      },
      "source": [
        "<a href=\"https://colab.research.google.com/github/GeorgeKMaina/stroke-health-care-analysis/blob/dev_samp/Stroke_Analysis.ipynb\" target=\"_parent\"><img src=\"https://colab.research.google.com/assets/colab-badge.svg\" alt=\"Open In Colab\"/></a>"
      ]
    },
    {
      "cell_type": "markdown",
      "metadata": {
        "id": "xBiGKlxjd62A"
      },
      "source": [
        "# **STROKE RISK FACTORS**"
      ]
    },
    {
      "cell_type": "markdown",
      "metadata": {
        "id": "B0XofvH3PvIo"
      },
      "source": [
        "## Importing Libraries and Loading the Dataset"
      ]
    },
    {
      "cell_type": "code",
      "metadata": {
        "id": "vYHLkTlqweYR"
      },
      "source": [
        "import pandas as pd\n",
        "import numpy as np\n",
        "import seaborn as sns\n",
        "import matplotlib.pyplot as plt\n",
        "from scipy import stats\n",
        "%matplotlib inline"
      ],
      "execution_count": 1,
      "outputs": []
    },
    {
      "cell_type": "code",
      "metadata": {
        "colab": {
          "base_uri": "https://localhost:8080/",
          "height": 0
        },
        "id": "EecBtLnixDJN",
        "outputId": "5cbf61ac-ce2e-4b16-ba82-ccbc5c459510"
      },
      "source": [
        "# Loading our dataset\n",
        "healthdata=pd.read_csv('/content/healthcare-dataset-stroke-data.csv')\n",
        "healthdata.head()"
      ],
      "execution_count": 2,
      "outputs": [
        {
          "output_type": "execute_result",
          "data": {
            "text/html": [
              "<div>\n",
              "<style scoped>\n",
              "    .dataframe tbody tr th:only-of-type {\n",
              "        vertical-align: middle;\n",
              "    }\n",
              "\n",
              "    .dataframe tbody tr th {\n",
              "        vertical-align: top;\n",
              "    }\n",
              "\n",
              "    .dataframe thead th {\n",
              "        text-align: right;\n",
              "    }\n",
              "</style>\n",
              "<table border=\"1\" class=\"dataframe\">\n",
              "  <thead>\n",
              "    <tr style=\"text-align: right;\">\n",
              "      <th></th>\n",
              "      <th>id</th>\n",
              "      <th>gender</th>\n",
              "      <th>age</th>\n",
              "      <th>hypertension</th>\n",
              "      <th>heart_disease</th>\n",
              "      <th>ever_married</th>\n",
              "      <th>work_type</th>\n",
              "      <th>Residence_type</th>\n",
              "      <th>avg_glucose_level</th>\n",
              "      <th>bmi</th>\n",
              "      <th>smoking_status</th>\n",
              "      <th>stroke</th>\n",
              "    </tr>\n",
              "  </thead>\n",
              "  <tbody>\n",
              "    <tr>\n",
              "      <th>0</th>\n",
              "      <td>9046</td>\n",
              "      <td>Male</td>\n",
              "      <td>67.0</td>\n",
              "      <td>0</td>\n",
              "      <td>1</td>\n",
              "      <td>Yes</td>\n",
              "      <td>Private</td>\n",
              "      <td>Urban</td>\n",
              "      <td>228.69</td>\n",
              "      <td>36.6</td>\n",
              "      <td>formerly smoked</td>\n",
              "      <td>1</td>\n",
              "    </tr>\n",
              "    <tr>\n",
              "      <th>1</th>\n",
              "      <td>51676</td>\n",
              "      <td>Female</td>\n",
              "      <td>61.0</td>\n",
              "      <td>0</td>\n",
              "      <td>0</td>\n",
              "      <td>Yes</td>\n",
              "      <td>Self-employed</td>\n",
              "      <td>Rural</td>\n",
              "      <td>202.21</td>\n",
              "      <td>NaN</td>\n",
              "      <td>never smoked</td>\n",
              "      <td>1</td>\n",
              "    </tr>\n",
              "    <tr>\n",
              "      <th>2</th>\n",
              "      <td>31112</td>\n",
              "      <td>Male</td>\n",
              "      <td>80.0</td>\n",
              "      <td>0</td>\n",
              "      <td>1</td>\n",
              "      <td>Yes</td>\n",
              "      <td>Private</td>\n",
              "      <td>Rural</td>\n",
              "      <td>105.92</td>\n",
              "      <td>32.5</td>\n",
              "      <td>never smoked</td>\n",
              "      <td>1</td>\n",
              "    </tr>\n",
              "    <tr>\n",
              "      <th>3</th>\n",
              "      <td>60182</td>\n",
              "      <td>Female</td>\n",
              "      <td>49.0</td>\n",
              "      <td>0</td>\n",
              "      <td>0</td>\n",
              "      <td>Yes</td>\n",
              "      <td>Private</td>\n",
              "      <td>Urban</td>\n",
              "      <td>171.23</td>\n",
              "      <td>34.4</td>\n",
              "      <td>smokes</td>\n",
              "      <td>1</td>\n",
              "    </tr>\n",
              "    <tr>\n",
              "      <th>4</th>\n",
              "      <td>1665</td>\n",
              "      <td>Female</td>\n",
              "      <td>79.0</td>\n",
              "      <td>1</td>\n",
              "      <td>0</td>\n",
              "      <td>Yes</td>\n",
              "      <td>Self-employed</td>\n",
              "      <td>Rural</td>\n",
              "      <td>174.12</td>\n",
              "      <td>24.0</td>\n",
              "      <td>never smoked</td>\n",
              "      <td>1</td>\n",
              "    </tr>\n",
              "  </tbody>\n",
              "</table>\n",
              "</div>"
            ],
            "text/plain": [
              "      id  gender   age  ...   bmi   smoking_status stroke\n",
              "0   9046    Male  67.0  ...  36.6  formerly smoked      1\n",
              "1  51676  Female  61.0  ...   NaN     never smoked      1\n",
              "2  31112    Male  80.0  ...  32.5     never smoked      1\n",
              "3  60182  Female  49.0  ...  34.4           smokes      1\n",
              "4   1665  Female  79.0  ...  24.0     never smoked      1\n",
              "\n",
              "[5 rows x 12 columns]"
            ]
          },
          "metadata": {
            "tags": []
          },
          "execution_count": 2
        }
      ]
    },
    {
      "cell_type": "markdown",
      "metadata": {
        "id": "dKO74FlDe-AQ"
      },
      "source": [
        "## Checking the data"
      ]
    },
    {
      "cell_type": "code",
      "metadata": {
        "colab": {
          "base_uri": "https://localhost:8080/"
        },
        "id": "KfNh_Wc-fKEf",
        "outputId": "b0f1c8cc-0006-4912-e960-15136839ab4d"
      },
      "source": [
        "# Determining the no. of records in our dataset\n",
        "healthdata.shape"
      ],
      "execution_count": 3,
      "outputs": [
        {
          "output_type": "execute_result",
          "data": {
            "text/plain": [
              "(5110, 12)"
            ]
          },
          "metadata": {
            "tags": []
          },
          "execution_count": 3
        }
      ]
    },
    {
      "cell_type": "markdown",
      "metadata": {
        "id": "QfFsWEqgfXrK"
      },
      "source": [
        "Our dataset has 5110 rows and 12 columns.\n"
      ]
    },
    {
      "cell_type": "code",
      "metadata": {
        "colab": {
          "base_uri": "https://localhost:8080/",
          "height": 0
        },
        "id": "zblEcMA0fcAO",
        "outputId": "e00e2b27-d5cc-40b3-8b16-99906e6af714"
      },
      "source": [
        "# previewing the top of our dataset\n",
        "healthdata.head()"
      ],
      "execution_count": 4,
      "outputs": [
        {
          "output_type": "execute_result",
          "data": {
            "text/html": [
              "<div>\n",
              "<style scoped>\n",
              "    .dataframe tbody tr th:only-of-type {\n",
              "        vertical-align: middle;\n",
              "    }\n",
              "\n",
              "    .dataframe tbody tr th {\n",
              "        vertical-align: top;\n",
              "    }\n",
              "\n",
              "    .dataframe thead th {\n",
              "        text-align: right;\n",
              "    }\n",
              "</style>\n",
              "<table border=\"1\" class=\"dataframe\">\n",
              "  <thead>\n",
              "    <tr style=\"text-align: right;\">\n",
              "      <th></th>\n",
              "      <th>id</th>\n",
              "      <th>gender</th>\n",
              "      <th>age</th>\n",
              "      <th>hypertension</th>\n",
              "      <th>heart_disease</th>\n",
              "      <th>ever_married</th>\n",
              "      <th>work_type</th>\n",
              "      <th>Residence_type</th>\n",
              "      <th>avg_glucose_level</th>\n",
              "      <th>bmi</th>\n",
              "      <th>smoking_status</th>\n",
              "      <th>stroke</th>\n",
              "    </tr>\n",
              "  </thead>\n",
              "  <tbody>\n",
              "    <tr>\n",
              "      <th>0</th>\n",
              "      <td>9046</td>\n",
              "      <td>Male</td>\n",
              "      <td>67.0</td>\n",
              "      <td>0</td>\n",
              "      <td>1</td>\n",
              "      <td>Yes</td>\n",
              "      <td>Private</td>\n",
              "      <td>Urban</td>\n",
              "      <td>228.69</td>\n",
              "      <td>36.6</td>\n",
              "      <td>formerly smoked</td>\n",
              "      <td>1</td>\n",
              "    </tr>\n",
              "    <tr>\n",
              "      <th>1</th>\n",
              "      <td>51676</td>\n",
              "      <td>Female</td>\n",
              "      <td>61.0</td>\n",
              "      <td>0</td>\n",
              "      <td>0</td>\n",
              "      <td>Yes</td>\n",
              "      <td>Self-employed</td>\n",
              "      <td>Rural</td>\n",
              "      <td>202.21</td>\n",
              "      <td>NaN</td>\n",
              "      <td>never smoked</td>\n",
              "      <td>1</td>\n",
              "    </tr>\n",
              "    <tr>\n",
              "      <th>2</th>\n",
              "      <td>31112</td>\n",
              "      <td>Male</td>\n",
              "      <td>80.0</td>\n",
              "      <td>0</td>\n",
              "      <td>1</td>\n",
              "      <td>Yes</td>\n",
              "      <td>Private</td>\n",
              "      <td>Rural</td>\n",
              "      <td>105.92</td>\n",
              "      <td>32.5</td>\n",
              "      <td>never smoked</td>\n",
              "      <td>1</td>\n",
              "    </tr>\n",
              "    <tr>\n",
              "      <th>3</th>\n",
              "      <td>60182</td>\n",
              "      <td>Female</td>\n",
              "      <td>49.0</td>\n",
              "      <td>0</td>\n",
              "      <td>0</td>\n",
              "      <td>Yes</td>\n",
              "      <td>Private</td>\n",
              "      <td>Urban</td>\n",
              "      <td>171.23</td>\n",
              "      <td>34.4</td>\n",
              "      <td>smokes</td>\n",
              "      <td>1</td>\n",
              "    </tr>\n",
              "    <tr>\n",
              "      <th>4</th>\n",
              "      <td>1665</td>\n",
              "      <td>Female</td>\n",
              "      <td>79.0</td>\n",
              "      <td>1</td>\n",
              "      <td>0</td>\n",
              "      <td>Yes</td>\n",
              "      <td>Self-employed</td>\n",
              "      <td>Rural</td>\n",
              "      <td>174.12</td>\n",
              "      <td>24.0</td>\n",
              "      <td>never smoked</td>\n",
              "      <td>1</td>\n",
              "    </tr>\n",
              "  </tbody>\n",
              "</table>\n",
              "</div>"
            ],
            "text/plain": [
              "      id  gender   age  ...   bmi   smoking_status stroke\n",
              "0   9046    Male  67.0  ...  36.6  formerly smoked      1\n",
              "1  51676  Female  61.0  ...   NaN     never smoked      1\n",
              "2  31112    Male  80.0  ...  32.5     never smoked      1\n",
              "3  60182  Female  49.0  ...  34.4           smokes      1\n",
              "4   1665  Female  79.0  ...  24.0     never smoked      1\n",
              "\n",
              "[5 rows x 12 columns]"
            ]
          },
          "metadata": {
            "tags": []
          },
          "execution_count": 4
        }
      ]
    },
    {
      "cell_type": "code",
      "metadata": {
        "colab": {
          "base_uri": "https://localhost:8080/",
          "height": 0
        },
        "id": "KPJiaw4bf4NO",
        "outputId": "571eab8c-934e-4fe0-c30c-53f906daaf31"
      },
      "source": [
        "# previewing the bottom of our dataset\n",
        "healthdata.tail()"
      ],
      "execution_count": 5,
      "outputs": [
        {
          "output_type": "execute_result",
          "data": {
            "text/html": [
              "<div>\n",
              "<style scoped>\n",
              "    .dataframe tbody tr th:only-of-type {\n",
              "        vertical-align: middle;\n",
              "    }\n",
              "\n",
              "    .dataframe tbody tr th {\n",
              "        vertical-align: top;\n",
              "    }\n",
              "\n",
              "    .dataframe thead th {\n",
              "        text-align: right;\n",
              "    }\n",
              "</style>\n",
              "<table border=\"1\" class=\"dataframe\">\n",
              "  <thead>\n",
              "    <tr style=\"text-align: right;\">\n",
              "      <th></th>\n",
              "      <th>id</th>\n",
              "      <th>gender</th>\n",
              "      <th>age</th>\n",
              "      <th>hypertension</th>\n",
              "      <th>heart_disease</th>\n",
              "      <th>ever_married</th>\n",
              "      <th>work_type</th>\n",
              "      <th>Residence_type</th>\n",
              "      <th>avg_glucose_level</th>\n",
              "      <th>bmi</th>\n",
              "      <th>smoking_status</th>\n",
              "      <th>stroke</th>\n",
              "    </tr>\n",
              "  </thead>\n",
              "  <tbody>\n",
              "    <tr>\n",
              "      <th>5105</th>\n",
              "      <td>18234</td>\n",
              "      <td>Female</td>\n",
              "      <td>80.0</td>\n",
              "      <td>1</td>\n",
              "      <td>0</td>\n",
              "      <td>Yes</td>\n",
              "      <td>Private</td>\n",
              "      <td>Urban</td>\n",
              "      <td>83.75</td>\n",
              "      <td>NaN</td>\n",
              "      <td>never smoked</td>\n",
              "      <td>0</td>\n",
              "    </tr>\n",
              "    <tr>\n",
              "      <th>5106</th>\n",
              "      <td>44873</td>\n",
              "      <td>Female</td>\n",
              "      <td>81.0</td>\n",
              "      <td>0</td>\n",
              "      <td>0</td>\n",
              "      <td>Yes</td>\n",
              "      <td>Self-employed</td>\n",
              "      <td>Urban</td>\n",
              "      <td>125.20</td>\n",
              "      <td>40.0</td>\n",
              "      <td>never smoked</td>\n",
              "      <td>0</td>\n",
              "    </tr>\n",
              "    <tr>\n",
              "      <th>5107</th>\n",
              "      <td>19723</td>\n",
              "      <td>Female</td>\n",
              "      <td>35.0</td>\n",
              "      <td>0</td>\n",
              "      <td>0</td>\n",
              "      <td>Yes</td>\n",
              "      <td>Self-employed</td>\n",
              "      <td>Rural</td>\n",
              "      <td>82.99</td>\n",
              "      <td>30.6</td>\n",
              "      <td>never smoked</td>\n",
              "      <td>0</td>\n",
              "    </tr>\n",
              "    <tr>\n",
              "      <th>5108</th>\n",
              "      <td>37544</td>\n",
              "      <td>Male</td>\n",
              "      <td>51.0</td>\n",
              "      <td>0</td>\n",
              "      <td>0</td>\n",
              "      <td>Yes</td>\n",
              "      <td>Private</td>\n",
              "      <td>Rural</td>\n",
              "      <td>166.29</td>\n",
              "      <td>25.6</td>\n",
              "      <td>formerly smoked</td>\n",
              "      <td>0</td>\n",
              "    </tr>\n",
              "    <tr>\n",
              "      <th>5109</th>\n",
              "      <td>44679</td>\n",
              "      <td>Female</td>\n",
              "      <td>44.0</td>\n",
              "      <td>0</td>\n",
              "      <td>0</td>\n",
              "      <td>Yes</td>\n",
              "      <td>Govt_job</td>\n",
              "      <td>Urban</td>\n",
              "      <td>85.28</td>\n",
              "      <td>26.2</td>\n",
              "      <td>Unknown</td>\n",
              "      <td>0</td>\n",
              "    </tr>\n",
              "  </tbody>\n",
              "</table>\n",
              "</div>"
            ],
            "text/plain": [
              "         id  gender   age  ...   bmi   smoking_status stroke\n",
              "5105  18234  Female  80.0  ...   NaN     never smoked      0\n",
              "5106  44873  Female  81.0  ...  40.0     never smoked      0\n",
              "5107  19723  Female  35.0  ...  30.6     never smoked      0\n",
              "5108  37544    Male  51.0  ...  25.6  formerly smoked      0\n",
              "5109  44679  Female  44.0  ...  26.2          Unknown      0\n",
              "\n",
              "[5 rows x 12 columns]"
            ]
          },
          "metadata": {
            "tags": []
          },
          "execution_count": 5
        }
      ]
    },
    {
      "cell_type": "code",
      "metadata": {
        "colab": {
          "base_uri": "https://localhost:8080/"
        },
        "id": "DTOB2kLXgGFX",
        "outputId": "10c758d2-a8e9-40fa-ae0a-b96e8bee499f"
      },
      "source": [
        "# Checking whether each column has an appropriate datatype\n",
        "healthdata.dtypes"
      ],
      "execution_count": 6,
      "outputs": [
        {
          "output_type": "execute_result",
          "data": {
            "text/plain": [
              "id                     int64\n",
              "gender                object\n",
              "age                  float64\n",
              "hypertension           int64\n",
              "heart_disease          int64\n",
              "ever_married          object\n",
              "work_type             object\n",
              "Residence_type        object\n",
              "avg_glucose_level    float64\n",
              "bmi                  float64\n",
              "smoking_status        object\n",
              "stroke                 int64\n",
              "dtype: object"
            ]
          },
          "metadata": {
            "tags": []
          },
          "execution_count": 6
        }
      ]
    },
    {
      "cell_type": "markdown",
      "metadata": {
        "id": "hLd-6qDfgY0D"
      },
      "source": [
        "## Tidying the dataset"
      ]
    },
    {
      "cell_type": "markdown",
      "metadata": {
        "id": "rlOVMMz4ggz1"
      },
      "source": [
        "### Renaming columns"
      ]
    },
    {
      "cell_type": "markdown",
      "metadata": {
        "id": "GlBiuRB0gpCy"
      },
      "source": [
        "Using the same pattern for column names, i.e. using lower case and '_' to make a single word for two-word columns."
      ]
    },
    {
      "cell_type": "code",
      "metadata": {
        "id": "BcEnBv9Wgb42"
      },
      "source": [
        "# Using the same format for all column names by:\n",
        "# Renaming the columns to combine the names of the columns into a single word and lowering the case\n",
        "\n",
        "healthdata.columns = healthdata.columns.str.lower().str.replace(' ', '_')"
      ],
      "execution_count": 7,
      "outputs": []
    },
    {
      "cell_type": "markdown",
      "metadata": {
        "id": "bJWea1rCg9Vd"
      },
      "source": [
        "### Identifying uniques values within the dataset for each column."
      ]
    },
    {
      "cell_type": "code",
      "metadata": {
        "colab": {
          "base_uri": "https://localhost:8080/"
        },
        "id": "wgBVTOOkg8wx",
        "outputId": "6b84397b-1002-4a4a-cd9e-189306e6e850"
      },
      "source": [
        "# Are there any unique values in each column entry in the dataset?\n",
        "for i in healthdata.columns:\n",
        " print(healthdata[i].unique())\n",
        " print (\"\\n\")"
      ],
      "execution_count": 8,
      "outputs": [
        {
          "output_type": "stream",
          "text": [
            "[ 9046 51676 31112 ... 19723 37544 44679]\n",
            "\n",
            "\n",
            "['Male' 'Female' 'Other']\n",
            "\n",
            "\n",
            "[6.70e+01 6.10e+01 8.00e+01 4.90e+01 7.90e+01 8.10e+01 7.40e+01 6.90e+01\n",
            " 5.90e+01 7.80e+01 5.40e+01 5.00e+01 6.40e+01 7.50e+01 6.00e+01 5.70e+01\n",
            " 7.10e+01 5.20e+01 8.20e+01 6.50e+01 5.80e+01 4.20e+01 4.80e+01 7.20e+01\n",
            " 6.30e+01 7.60e+01 3.90e+01 7.70e+01 7.30e+01 5.60e+01 4.50e+01 7.00e+01\n",
            " 6.60e+01 5.10e+01 4.30e+01 6.80e+01 4.70e+01 5.30e+01 3.80e+01 5.50e+01\n",
            " 1.32e+00 4.60e+01 3.20e+01 1.40e+01 3.00e+00 8.00e+00 3.70e+01 4.00e+01\n",
            " 3.50e+01 2.00e+01 4.40e+01 2.50e+01 2.70e+01 2.30e+01 1.70e+01 1.30e+01\n",
            " 4.00e+00 1.60e+01 2.20e+01 3.00e+01 2.90e+01 1.10e+01 2.10e+01 1.80e+01\n",
            " 3.30e+01 2.40e+01 3.40e+01 3.60e+01 6.40e-01 4.10e+01 8.80e-01 5.00e+00\n",
            " 2.60e+01 3.10e+01 7.00e+00 1.20e+01 6.20e+01 2.00e+00 9.00e+00 1.50e+01\n",
            " 2.80e+01 1.00e+01 1.80e+00 3.20e-01 1.08e+00 1.90e+01 6.00e+00 1.16e+00\n",
            " 1.00e+00 1.40e+00 1.72e+00 2.40e-01 1.64e+00 1.56e+00 7.20e-01 1.88e+00\n",
            " 1.24e+00 8.00e-01 4.00e-01 8.00e-02 1.48e+00 5.60e-01 4.80e-01 1.60e-01]\n",
            "\n",
            "\n",
            "[0 1]\n",
            "\n",
            "\n",
            "[1 0]\n",
            "\n",
            "\n",
            "['Yes' 'No']\n",
            "\n",
            "\n",
            "['Private' 'Self-employed' 'Govt_job' 'children' 'Never_worked']\n",
            "\n",
            "\n",
            "['Urban' 'Rural']\n",
            "\n",
            "\n",
            "[228.69 202.21 105.92 ...  82.99 166.29  85.28]\n",
            "\n",
            "\n",
            "[36.6  nan 32.5 34.4 24.  29.  27.4 22.8 24.2 29.7 36.8 27.3 28.2 30.9\n",
            " 37.5 25.8 37.8 22.4 48.9 26.6 27.2 23.5 28.3 44.2 25.4 22.2 30.5 26.5\n",
            " 33.7 23.1 32.  29.9 23.9 28.5 26.4 20.2 33.6 38.6 39.2 27.7 31.4 36.5\n",
            " 33.2 32.8 40.4 25.3 30.2 47.5 20.3 30.  28.9 28.1 31.1 21.7 27.  24.1\n",
            " 45.9 44.1 22.9 29.1 32.3 41.1 25.6 29.8 26.3 26.2 29.4 24.4 28.  28.8\n",
            " 34.6 19.4 30.3 41.5 22.6 56.6 27.1 31.3 31.  31.7 35.8 28.4 20.1 26.7\n",
            " 38.7 34.9 25.  23.8 21.8 27.5 24.6 32.9 26.1 31.9 34.1 36.9 37.3 45.7\n",
            " 34.2 23.6 22.3 37.1 45.  25.5 30.8 37.4 34.5 27.9 29.5 46.  42.5 35.5\n",
            " 26.9 45.5 31.5 33.  23.4 30.7 20.5 21.5 40.  28.6 42.2 29.6 35.4 16.9\n",
            " 26.8 39.3 32.6 35.9 21.2 42.4 40.5 36.7 29.3 19.6 18.  17.6 19.1 50.1\n",
            " 17.7 54.6 35.  22.  39.4 19.7 22.5 25.2 41.8 60.9 23.7 24.5 31.2 16.\n",
            " 31.6 25.1 24.8 18.3 20.  19.5 36.  35.3 40.1 43.1 21.4 34.3 27.6 16.5\n",
            " 24.3 25.7 21.9 38.4 25.9 54.7 18.6 24.9 48.2 20.7 39.5 23.3 64.8 35.1\n",
            " 43.6 21.  47.3 16.6 21.6 15.5 35.6 16.7 41.9 16.4 17.1 29.2 37.9 44.6\n",
            " 39.6 40.3 41.6 39.  23.2 18.9 36.1 36.3 46.5 16.8 46.6 35.2 20.9 13.8\n",
            " 31.8 15.3 38.2 45.2 17.  49.8 27.8 60.2 23.  22.1 26.  44.3 51.  39.7\n",
            " 34.7 21.3 41.2 34.8 19.2 35.7 40.8 24.7 19.  32.4 34.  28.7 32.1 51.5\n",
            " 20.4 30.6 71.9 19.3 40.9 17.2 16.1 16.2 40.6 18.4 21.1 42.3 32.2 50.2\n",
            " 17.5 18.7 42.1 47.8 20.8 30.1 17.3 36.4 12.  36.2 55.7 14.4 43.  41.7\n",
            " 33.8 43.9 22.7 57.5 37.  38.5 16.3 44.  32.7 54.2 40.2 33.3 17.4 41.3\n",
            " 52.3 14.6 17.8 46.1 33.1 18.1 43.8 50.3 38.9 43.7 39.9 15.9 19.8 12.3\n",
            " 78.  38.3 41.  42.6 43.4 15.1 20.6 33.5 43.2 30.4 38.  33.4 44.9 44.7\n",
            " 37.6 39.8 53.4 55.2 42.  37.2 42.8 18.8 42.9 14.3 37.7 48.4 50.6 46.2\n",
            " 49.5 43.3 33.9 18.5 44.5 45.4 55.  54.8 19.9 17.9 15.6 52.8 15.2 66.8\n",
            " 55.1 18.2 48.5 55.9 57.3 10.3 14.1 15.7 56.  44.8 13.4 51.8 38.1 57.7\n",
            " 44.4 38.8 49.3 39.1 54.  56.1 97.6 53.9 13.7 11.5 41.4 14.2 49.4 15.4\n",
            " 45.1 49.2 48.7 53.8 42.7 48.8 52.7 53.5 50.5 15.8 45.3 14.8 51.9 63.3\n",
            " 40.7 61.2 48.  46.8 48.3 58.1 50.4 11.3 12.8 13.5 14.5 15.  59.7 47.4\n",
            " 52.5 13.2 52.9 61.6 49.9 54.3 47.9 13.  13.9 50.9 57.2 64.4 92.  50.8\n",
            " 57.9 45.8 47.6 14.  46.4 46.9 47.1 13.3 48.1 51.7 46.3 54.1 14.9]\n",
            "\n",
            "\n",
            "['formerly smoked' 'never smoked' 'smokes' 'Unknown']\n",
            "\n",
            "\n",
            "[1 0]\n",
            "\n",
            "\n"
          ],
          "name": "stdout"
        }
      ]
    },
    {
      "cell_type": "markdown",
      "metadata": {
        "id": "hDPFl5BghWVe"
      },
      "source": [
        "### Dropping Irrelevant Fields"
      ]
    },
    {
      "cell_type": "code",
      "metadata": {
        "colab": {
          "base_uri": "https://localhost:8080/",
          "height": 0
        },
        "id": "i51-dZiphYIE",
        "outputId": "91049bdb-b926-4482-8a3e-339b76636836"
      },
      "source": [
        "# Dropping irrelevant fields\n",
        "healthdata.drop(columns =['id'],inplace = True)\n",
        "healthdata.head()"
      ],
      "execution_count": 9,
      "outputs": [
        {
          "output_type": "execute_result",
          "data": {
            "text/html": [
              "<div>\n",
              "<style scoped>\n",
              "    .dataframe tbody tr th:only-of-type {\n",
              "        vertical-align: middle;\n",
              "    }\n",
              "\n",
              "    .dataframe tbody tr th {\n",
              "        vertical-align: top;\n",
              "    }\n",
              "\n",
              "    .dataframe thead th {\n",
              "        text-align: right;\n",
              "    }\n",
              "</style>\n",
              "<table border=\"1\" class=\"dataframe\">\n",
              "  <thead>\n",
              "    <tr style=\"text-align: right;\">\n",
              "      <th></th>\n",
              "      <th>gender</th>\n",
              "      <th>age</th>\n",
              "      <th>hypertension</th>\n",
              "      <th>heart_disease</th>\n",
              "      <th>ever_married</th>\n",
              "      <th>work_type</th>\n",
              "      <th>residence_type</th>\n",
              "      <th>avg_glucose_level</th>\n",
              "      <th>bmi</th>\n",
              "      <th>smoking_status</th>\n",
              "      <th>stroke</th>\n",
              "    </tr>\n",
              "  </thead>\n",
              "  <tbody>\n",
              "    <tr>\n",
              "      <th>0</th>\n",
              "      <td>Male</td>\n",
              "      <td>67.0</td>\n",
              "      <td>0</td>\n",
              "      <td>1</td>\n",
              "      <td>Yes</td>\n",
              "      <td>Private</td>\n",
              "      <td>Urban</td>\n",
              "      <td>228.69</td>\n",
              "      <td>36.6</td>\n",
              "      <td>formerly smoked</td>\n",
              "      <td>1</td>\n",
              "    </tr>\n",
              "    <tr>\n",
              "      <th>1</th>\n",
              "      <td>Female</td>\n",
              "      <td>61.0</td>\n",
              "      <td>0</td>\n",
              "      <td>0</td>\n",
              "      <td>Yes</td>\n",
              "      <td>Self-employed</td>\n",
              "      <td>Rural</td>\n",
              "      <td>202.21</td>\n",
              "      <td>NaN</td>\n",
              "      <td>never smoked</td>\n",
              "      <td>1</td>\n",
              "    </tr>\n",
              "    <tr>\n",
              "      <th>2</th>\n",
              "      <td>Male</td>\n",
              "      <td>80.0</td>\n",
              "      <td>0</td>\n",
              "      <td>1</td>\n",
              "      <td>Yes</td>\n",
              "      <td>Private</td>\n",
              "      <td>Rural</td>\n",
              "      <td>105.92</td>\n",
              "      <td>32.5</td>\n",
              "      <td>never smoked</td>\n",
              "      <td>1</td>\n",
              "    </tr>\n",
              "    <tr>\n",
              "      <th>3</th>\n",
              "      <td>Female</td>\n",
              "      <td>49.0</td>\n",
              "      <td>0</td>\n",
              "      <td>0</td>\n",
              "      <td>Yes</td>\n",
              "      <td>Private</td>\n",
              "      <td>Urban</td>\n",
              "      <td>171.23</td>\n",
              "      <td>34.4</td>\n",
              "      <td>smokes</td>\n",
              "      <td>1</td>\n",
              "    </tr>\n",
              "    <tr>\n",
              "      <th>4</th>\n",
              "      <td>Female</td>\n",
              "      <td>79.0</td>\n",
              "      <td>1</td>\n",
              "      <td>0</td>\n",
              "      <td>Yes</td>\n",
              "      <td>Self-employed</td>\n",
              "      <td>Rural</td>\n",
              "      <td>174.12</td>\n",
              "      <td>24.0</td>\n",
              "      <td>never smoked</td>\n",
              "      <td>1</td>\n",
              "    </tr>\n",
              "  </tbody>\n",
              "</table>\n",
              "</div>"
            ],
            "text/plain": [
              "   gender   age  hypertension  ...   bmi   smoking_status stroke\n",
              "0    Male  67.0             0  ...  36.6  formerly smoked      1\n",
              "1  Female  61.0             0  ...   NaN     never smoked      1\n",
              "2    Male  80.0             0  ...  32.5     never smoked      1\n",
              "3  Female  49.0             0  ...  34.4           smokes      1\n",
              "4  Female  79.0             1  ...  24.0     never smoked      1\n",
              "\n",
              "[5 rows x 11 columns]"
            ]
          },
          "metadata": {
            "tags": []
          },
          "execution_count": 9
        }
      ]
    },
    {
      "cell_type": "markdown",
      "metadata": {
        "id": "Qk4oXwEliCe2"
      },
      "source": [
        "### Missing values"
      ]
    },
    {
      "cell_type": "markdown",
      "metadata": {
        "id": "dQTkbnd5iSgj"
      },
      "source": [
        "Identifying and dealing with missing values within the dataset."
      ]
    },
    {
      "cell_type": "code",
      "metadata": {
        "colab": {
          "base_uri": "https://localhost:8080/"
        },
        "id": "pDFqOTuuiFby",
        "outputId": "2c04433a-0f71-4fb3-a495-65288cc91bf9"
      },
      "source": [
        "# Determining the number of items in each column and the data type of each column\n",
        "healthdata.info()"
      ],
      "execution_count": 10,
      "outputs": [
        {
          "output_type": "stream",
          "text": [
            "<class 'pandas.core.frame.DataFrame'>\n",
            "RangeIndex: 5110 entries, 0 to 5109\n",
            "Data columns (total 11 columns):\n",
            " #   Column             Non-Null Count  Dtype  \n",
            "---  ------             --------------  -----  \n",
            " 0   gender             5110 non-null   object \n",
            " 1   age                5110 non-null   float64\n",
            " 2   hypertension       5110 non-null   int64  \n",
            " 3   heart_disease      5110 non-null   int64  \n",
            " 4   ever_married       5110 non-null   object \n",
            " 5   work_type          5110 non-null   object \n",
            " 6   residence_type     5110 non-null   object \n",
            " 7   avg_glucose_level  5110 non-null   float64\n",
            " 8   bmi                4909 non-null   float64\n",
            " 9   smoking_status     5110 non-null   object \n",
            " 10  stroke             5110 non-null   int64  \n",
            "dtypes: float64(3), int64(3), object(5)\n",
            "memory usage: 439.3+ KB\n"
          ],
          "name": "stdout"
        }
      ]
    },
    {
      "cell_type": "code",
      "metadata": {
        "colab": {
          "base_uri": "https://localhost:8080/"
        },
        "id": "oLT33eFaiKL4",
        "outputId": "9f47f6d2-ecf7-49f9-84f8-fc3315aada76"
      },
      "source": [
        "# Identifying the Missing Data.\n",
        "healthdata.isnull().sum()"
      ],
      "execution_count": 11,
      "outputs": [
        {
          "output_type": "execute_result",
          "data": {
            "text/plain": [
              "gender                 0\n",
              "age                    0\n",
              "hypertension           0\n",
              "heart_disease          0\n",
              "ever_married           0\n",
              "work_type              0\n",
              "residence_type         0\n",
              "avg_glucose_level      0\n",
              "bmi                  201\n",
              "smoking_status         0\n",
              "stroke                 0\n",
              "dtype: int64"
            ]
          },
          "metadata": {
            "tags": []
          },
          "execution_count": 11
        }
      ]
    },
    {
      "cell_type": "code",
      "metadata": {
        "colab": {
          "base_uri": "https://localhost:8080/"
        },
        "id": "qGcqvKZJj1Hl",
        "outputId": "3eebb9ca-4a40-4f51-e645-d4f3cd7810dc"
      },
      "source": [
        "# Dropping any rows that have a missing or null values because they may cause inconsistencies.\n",
        "healthdata.dropna(inplace = True)\n",
        "# Checking if there are any null values.\n",
        "healthdata.isnull().sum()"
      ],
      "execution_count": 12,
      "outputs": [
        {
          "output_type": "execute_result",
          "data": {
            "text/plain": [
              "gender               0\n",
              "age                  0\n",
              "hypertension         0\n",
              "heart_disease        0\n",
              "ever_married         0\n",
              "work_type            0\n",
              "residence_type       0\n",
              "avg_glucose_level    0\n",
              "bmi                  0\n",
              "smoking_status       0\n",
              "stroke               0\n",
              "dtype: int64"
            ]
          },
          "metadata": {
            "tags": []
          },
          "execution_count": 12
        }
      ]
    },
    {
      "cell_type": "markdown",
      "metadata": {
        "id": "ipnolzKb-x48"
      },
      "source": [
        "### Outliers"
      ]
    },
    {
      "cell_type": "code",
      "metadata": {
        "colab": {
          "base_uri": "https://localhost:8080/",
          "height": 392
        },
        "id": "xAoKBlBI-2Q8",
        "outputId": "81bd81b1-ec63-4f3b-9185-d4d215eeb923"
      },
      "source": [
        "# checking for outliers \n",
        "healthdata.boxplot(figsize=(8, 6), fontsize=10)\n",
        "\n",
        "# print size of the data with outliers present\n",
        "print(healthdata.shape)"
      ],
      "execution_count": 13,
      "outputs": [
        {
          "output_type": "stream",
          "text": [
            "(4909, 11)\n"
          ],
          "name": "stdout"
        },
        {
          "output_type": "display_data",
          "data": {
            "image/png": "[encoded data removed]",
            "text/plain": [
              "<Figure size 576x432 with 1 Axes>"
            ]
          },
          "metadata": {
            "tags": [],
            "needs_background": "light"
          }
        }
      ]
    },
    {
      "cell_type": "code",
      "metadata": {
        "colab": {
          "base_uri": "https://localhost:8080/"
        },
        "id": "hmAYCzP9_HWk",
        "outputId": "2236c229-f8c6-4e49-bcfd-04141fb0c140"
      },
      "source": [
        "# Checking for outliers in the glucose level column\n",
        "\n",
        "Q1 = healthdata.avg_glucose_level.quantile(0.25)\n",
        "Q3 = healthdata.avg_glucose_level.quantile(0.75)\n",
        "\n",
        "IQR = Q3 - Q1\n",
        "\n",
        "outliers = ((healthdata.avg_glucose_level < Q1 - 1.5 * IQR) | (healthdata.avg_glucose_level > Q3 + 1.5 * IQR))\n",
        "outliers.value_counts()"
      ],
      "execution_count": 14,
      "outputs": [
        {
          "output_type": "execute_result",
          "data": {
            "text/plain": [
              "False    4342\n",
              "True      567\n",
              "Name: avg_glucose_level, dtype: int64"
            ]
          },
          "metadata": {
            "tags": []
          },
          "execution_count": 14
        }
      ]
    },
    {
      "cell_type": "code",
      "metadata": {
        "colab": {
          "base_uri": "https://localhost:8080/"
        },
        "id": "KUQHCEwc_iX7",
        "outputId": "bd7dc49c-7f63-42d1-f989-59b902ccc9cf"
      },
      "source": [
        "# Checking for outliers in the bmi column\n",
        "\n",
        "Q1 = healthdata.bmi.quantile(0.25)\n",
        "Q3 = healthdata.bmi.quantile(0.75)\n",
        "\n",
        "IQR = Q3 - Q1\n",
        "\n",
        "outliers = ((healthdata.bmi < Q1 - 1.5 * IQR) | (healthdata.bmi > Q3 + 1.5 * IQR))\n",
        "outliers.value_counts()"
      ],
      "execution_count": 15,
      "outputs": [
        {
          "output_type": "execute_result",
          "data": {
            "text/plain": [
              "False    4799\n",
              "True      110\n",
              "Name: bmi, dtype: int64"
            ]
          },
          "metadata": {
            "tags": []
          },
          "execution_count": 15
        }
      ]
    },
    {
      "cell_type": "markdown",
      "metadata": {
        "id": "tMzEr1-NASat"
      },
      "source": [
        "There are outliers in the bmi and glucose columns.However, removing the outliers would result in an inconclusive result because they could still be viable submissions."
      ]
    },
    {
      "cell_type": "markdown",
      "metadata": {
        "id": "V3U4bB9Mkz2W"
      },
      "source": [
        "### Anomalies"
      ]
    },
    {
      "cell_type": "code",
      "metadata": {
        "id": "ORXdcI_3W9a7",
        "outputId": "ef912fae-9ca4-4115-eb11-3a3d24fb2cae",
        "colab": {
          "base_uri": "https://localhost:8080/",
          "height": 202
        }
      },
      "source": [
        "print(healthdata['gender'].value_counts())\n",
        "print('\\n')\n",
        "healthdata.loc[healthdata['gender']=='Other']"
      ],
      "execution_count": 16,
      "outputs": [
        {
          "output_type": "stream",
          "text": [
            "Female    2897\n",
            "Male      2011\n",
            "Other        1\n",
            "Name: gender, dtype: int64\n",
            "\n",
            "\n"
          ],
          "name": "stdout"
        },
        {
          "output_type": "execute_result",
          "data": {
            "text/html": [
              "<div>\n",
              "<style scoped>\n",
              "    .dataframe tbody tr th:only-of-type {\n",
              "        vertical-align: middle;\n",
              "    }\n",
              "\n",
              "    .dataframe tbody tr th {\n",
              "        vertical-align: top;\n",
              "    }\n",
              "\n",
              "    .dataframe thead th {\n",
              "        text-align: right;\n",
              "    }\n",
              "</style>\n",
              "<table border=\"1\" class=\"dataframe\">\n",
              "  <thead>\n",
              "    <tr style=\"text-align: right;\">\n",
              "      <th></th>\n",
              "      <th>gender</th>\n",
              "      <th>age</th>\n",
              "      <th>hypertension</th>\n",
              "      <th>heart_disease</th>\n",
              "      <th>ever_married</th>\n",
              "      <th>work_type</th>\n",
              "      <th>residence_type</th>\n",
              "      <th>avg_glucose_level</th>\n",
              "      <th>bmi</th>\n",
              "      <th>smoking_status</th>\n",
              "      <th>stroke</th>\n",
              "    </tr>\n",
              "  </thead>\n",
              "  <tbody>\n",
              "    <tr>\n",
              "      <th>3116</th>\n",
              "      <td>Other</td>\n",
              "      <td>26.0</td>\n",
              "      <td>0</td>\n",
              "      <td>0</td>\n",
              "      <td>No</td>\n",
              "      <td>Private</td>\n",
              "      <td>Rural</td>\n",
              "      <td>143.33</td>\n",
              "      <td>22.4</td>\n",
              "      <td>formerly smoked</td>\n",
              "      <td>0</td>\n",
              "    </tr>\n",
              "  </tbody>\n",
              "</table>\n",
              "</div>"
            ],
            "text/plain": [
              "     gender   age  hypertension  ...   bmi   smoking_status stroke\n",
              "3116  Other  26.0             0  ...  22.4  formerly smoked      0\n",
              "\n",
              "[1 rows x 11 columns]"
            ]
          },
          "metadata": {
            "tags": []
          },
          "execution_count": 16
        }
      ]
    },
    {
      "cell_type": "code",
      "metadata": {
        "id": "GUuOEUOFXLgy",
        "outputId": "c16c325c-7d46-407b-998a-4ec681f78528",
        "colab": {
          "base_uri": "https://localhost:8080/"
        }
      },
      "source": [
        "healthdata.drop(healthdata.loc[healthdata['gender']=='Other'].index,inplace=True)\n",
        "\n",
        "healthdata['gender'].value_counts()"
      ],
      "execution_count": 17,
      "outputs": [
        {
          "output_type": "execute_result",
          "data": {
            "text/plain": [
              "Female    2897\n",
              "Male      2011\n",
              "Name: gender, dtype: int64"
            ]
          },
          "metadata": {
            "tags": []
          },
          "execution_count": 17
        }
      ]
    },
    {
      "cell_type": "code",
      "metadata": {
        "id": "brO4fxFpk20c"
      },
      "source": [
        "# Checking for Anomalies\n",
        "# There were no more anomalies within our dataset \n",
        "# However, we removed the Id column because we determined that it would not be\n",
        "# useful for our research."
      ],
      "execution_count": 18,
      "outputs": []
    },
    {
      "cell_type": "markdown",
      "metadata": {
        "id": "enFiCYIMlCYe"
      },
      "source": [
        "## Exploratory Data Analysis"
      ]
    },
    {
      "cell_type": "markdown",
      "metadata": {
        "id": "WctdpWaWlIV2"
      },
      "source": [
        "### Univariate Analysis"
      ]
    },
    {
      "cell_type": "markdown",
      "metadata": {
        "id": "IqmoQA9wlTXR"
      },
      "source": [
        "#### Frequency Tables"
      ]
    },
    {
      "cell_type": "code",
      "metadata": {
        "colab": {
          "base_uri": "https://localhost:8080/"
        },
        "id": "yfcDwge5lFvu",
        "outputId": "d9b3ae47-aa0c-4517-d02b-4c0c9ced91aa"
      },
      "source": [
        "# Creating a Frequency table of column type of gender categories \n",
        "# and using the value_counts() function\n",
        "healthdata.gender.value_counts()"
      ],
      "execution_count": 19,
      "outputs": [
        {
          "output_type": "execute_result",
          "data": {
            "text/plain": [
              "Female    2897\n",
              "Male      2011\n",
              "Name: gender, dtype: int64"
            ]
          },
          "metadata": {
            "tags": []
          },
          "execution_count": 19
        }
      ]
    },
    {
      "cell_type": "markdown",
      "metadata": {
        "id": "J0mitGBblsHq"
      },
      "source": [
        "There are more female respondents than male within our dataset."
      ]
    },
    {
      "cell_type": "code",
      "metadata": {
        "colab": {
          "base_uri": "https://localhost:8080/"
        },
        "id": "FlSpiqVMlqBl",
        "outputId": "c8fd9819-4e30-44ed-aa77-cc37cd726c70"
      },
      "source": [
        "# Creating a Frequency table of column type of work type categories \n",
        "# and using the value_counts() function\n",
        "healthdata.work_type.value_counts()"
      ],
      "execution_count": 20,
      "outputs": [
        {
          "output_type": "execute_result",
          "data": {
            "text/plain": [
              "Private          2810\n",
              "Self-employed     775\n",
              "children          671\n",
              "Govt_job          630\n",
              "Never_worked       22\n",
              "Name: work_type, dtype: int64"
            ]
          },
          "metadata": {
            "tags": []
          },
          "execution_count": 20
        }
      ]
    },
    {
      "cell_type": "markdown",
      "metadata": {
        "id": "3yoNd6prmIo8"
      },
      "source": [
        "Majority of the respondents work in the private sector."
      ]
    },
    {
      "cell_type": "code",
      "metadata": {
        "colab": {
          "base_uri": "https://localhost:8080/"
        },
        "id": "Sxx4aXxnmM3X",
        "outputId": "b8b2117c-8c27-4958-dd2f-ec3ac1826f5c"
      },
      "source": [
        "# Creating a Frequency table of column type of ever married categories \n",
        "# and using the value_counts() function\n",
        "healthdata.ever_married.value_counts()"
      ],
      "execution_count": 21,
      "outputs": [
        {
          "output_type": "execute_result",
          "data": {
            "text/plain": [
              "Yes    3204\n",
              "No     1704\n",
              "Name: ever_married, dtype: int64"
            ]
          },
          "metadata": {
            "tags": []
          },
          "execution_count": 21
        }
      ]
    },
    {
      "cell_type": "markdown",
      "metadata": {
        "id": "76ZHjdiLmaX0"
      },
      "source": [
        "Most of the respondents were married."
      ]
    },
    {
      "cell_type": "code",
      "metadata": {
        "colab": {
          "base_uri": "https://localhost:8080/"
        },
        "id": "-Ek5fMEAmgq5",
        "outputId": "ebc04ed6-b8a2-4779-d4ae-c1507cfc7ba9"
      },
      "source": [
        "# Creating a Frequency table of column type of residence type categories \n",
        "# and using the value_counts() function\n",
        "healthdata.residence_type.value_counts()"
      ],
      "execution_count": 22,
      "outputs": [
        {
          "output_type": "execute_result",
          "data": {
            "text/plain": [
              "Urban    2490\n",
              "Rural    2418\n",
              "Name: residence_type, dtype: int64"
            ]
          },
          "metadata": {
            "tags": []
          },
          "execution_count": 22
        }
      ]
    },
    {
      "cell_type": "markdown",
      "metadata": {
        "id": "WgHrGdjHmkIG"
      },
      "source": [
        "Most of the respondents live in urban areas but the difference was not that large from those who live in rural areas."
      ]
    },
    {
      "cell_type": "code",
      "metadata": {
        "colab": {
          "base_uri": "https://localhost:8080/"
        },
        "id": "n0I-cGw2myfX",
        "outputId": "a8314b48-af38-48d0-e928-52f9d9fb467d"
      },
      "source": [
        "# Creating a Frequency table of column type of smoking status categories \n",
        "# and using the value_counts() function\n",
        "healthdata.smoking_status.value_counts()"
      ],
      "execution_count": 23,
      "outputs": [
        {
          "output_type": "execute_result",
          "data": {
            "text/plain": [
              "never smoked       1852\n",
              "Unknown            1483\n",
              "formerly smoked     836\n",
              "smokes              737\n",
              "Name: smoking_status, dtype: int64"
            ]
          },
          "metadata": {
            "tags": []
          },
          "execution_count": 23
        }
      ]
    },
    {
      "cell_type": "markdown",
      "metadata": {
        "id": "zbKN8e6InLIQ"
      },
      "source": [
        "Most of the respondents never smoked"
      ]
    },
    {
      "cell_type": "code",
      "metadata": {
        "colab": {
          "base_uri": "https://localhost:8080/",
          "height": 0
        },
        "id": "5AU3k1UbnFmn",
        "outputId": "3c510d1b-025e-42af-9d34-fded590bc13e"
      },
      "source": [
        "healthdata.head()"
      ],
      "execution_count": 24,
      "outputs": [
        {
          "output_type": "execute_result",
          "data": {
            "text/html": [
              "<div>\n",
              "<style scoped>\n",
              "    .dataframe tbody tr th:only-of-type {\n",
              "        vertical-align: middle;\n",
              "    }\n",
              "\n",
              "    .dataframe tbody tr th {\n",
              "        vertical-align: top;\n",
              "    }\n",
              "\n",
              "    .dataframe thead th {\n",
              "        text-align: right;\n",
              "    }\n",
              "</style>\n",
              "<table border=\"1\" class=\"dataframe\">\n",
              "  <thead>\n",
              "    <tr style=\"text-align: right;\">\n",
              "      <th></th>\n",
              "      <th>gender</th>\n",
              "      <th>age</th>\n",
              "      <th>hypertension</th>\n",
              "      <th>heart_disease</th>\n",
              "      <th>ever_married</th>\n",
              "      <th>work_type</th>\n",
              "      <th>residence_type</th>\n",
              "      <th>avg_glucose_level</th>\n",
              "      <th>bmi</th>\n",
              "      <th>smoking_status</th>\n",
              "      <th>stroke</th>\n",
              "    </tr>\n",
              "  </thead>\n",
              "  <tbody>\n",
              "    <tr>\n",
              "      <th>0</th>\n",
              "      <td>Male</td>\n",
              "      <td>67.0</td>\n",
              "      <td>0</td>\n",
              "      <td>1</td>\n",
              "      <td>Yes</td>\n",
              "      <td>Private</td>\n",
              "      <td>Urban</td>\n",
              "      <td>228.69</td>\n",
              "      <td>36.6</td>\n",
              "      <td>formerly smoked</td>\n",
              "      <td>1</td>\n",
              "    </tr>\n",
              "    <tr>\n",
              "      <th>2</th>\n",
              "      <td>Male</td>\n",
              "      <td>80.0</td>\n",
              "      <td>0</td>\n",
              "      <td>1</td>\n",
              "      <td>Yes</td>\n",
              "      <td>Private</td>\n",
              "      <td>Rural</td>\n",
              "      <td>105.92</td>\n",
              "      <td>32.5</td>\n",
              "      <td>never smoked</td>\n",
              "      <td>1</td>\n",
              "    </tr>\n",
              "    <tr>\n",
              "      <th>3</th>\n",
              "      <td>Female</td>\n",
              "      <td>49.0</td>\n",
              "      <td>0</td>\n",
              "      <td>0</td>\n",
              "      <td>Yes</td>\n",
              "      <td>Private</td>\n",
              "      <td>Urban</td>\n",
              "      <td>171.23</td>\n",
              "      <td>34.4</td>\n",
              "      <td>smokes</td>\n",
              "      <td>1</td>\n",
              "    </tr>\n",
              "    <tr>\n",
              "      <th>4</th>\n",
              "      <td>Female</td>\n",
              "      <td>79.0</td>\n",
              "      <td>1</td>\n",
              "      <td>0</td>\n",
              "      <td>Yes</td>\n",
              "      <td>Self-employed</td>\n",
              "      <td>Rural</td>\n",
              "      <td>174.12</td>\n",
              "      <td>24.0</td>\n",
              "      <td>never smoked</td>\n",
              "      <td>1</td>\n",
              "    </tr>\n",
              "    <tr>\n",
              "      <th>5</th>\n",
              "      <td>Male</td>\n",
              "      <td>81.0</td>\n",
              "      <td>0</td>\n",
              "      <td>0</td>\n",
              "      <td>Yes</td>\n",
              "      <td>Private</td>\n",
              "      <td>Urban</td>\n",
              "      <td>186.21</td>\n",
              "      <td>29.0</td>\n",
              "      <td>formerly smoked</td>\n",
              "      <td>1</td>\n",
              "    </tr>\n",
              "  </tbody>\n",
              "</table>\n",
              "</div>"
            ],
            "text/plain": [
              "   gender   age  hypertension  ...   bmi   smoking_status stroke\n",
              "0    Male  67.0             0  ...  36.6  formerly smoked      1\n",
              "2    Male  80.0             0  ...  32.5     never smoked      1\n",
              "3  Female  49.0             0  ...  34.4           smokes      1\n",
              "4  Female  79.0             1  ...  24.0     never smoked      1\n",
              "5    Male  81.0             0  ...  29.0  formerly smoked      1\n",
              "\n",
              "[5 rows x 11 columns]"
            ]
          },
          "metadata": {
            "tags": []
          },
          "execution_count": 24
        }
      ]
    },
    {
      "cell_type": "markdown",
      "metadata": {
        "id": "1kIGsW2Kp7Ey"
      },
      "source": [
        "#### Pie chart"
      ]
    },
    {
      "cell_type": "code",
      "metadata": {
        "colab": {
          "base_uri": "https://localhost:8080/",
          "height": 264
        },
        "id": "w6CYc33WoPVr",
        "outputId": "43428f77-b584-45cf-b6a6-5c083fbe2af6"
      },
      "source": [
        "# Creating a pie chart that illustrates the number of people in each residence that have stroke\n",
        "\n",
        "# Filtering out the 'Yes' value from column residence\n",
        "stroke = healthdata[healthdata['stroke']== 1]\n",
        "\n",
        "explode = (0,0)\n",
        "p = stroke.groupby('residence_type')['stroke'].count()\n",
        "\n",
        "labels = healthdata['residence_type'].unique()\n",
        "\n",
        "plt.title('A pie chart showing the % of respondents who have stroke per residence type.')\n",
        "plt.pie(p,labels=labels,explode=explode,autopct='%1.1f%%',startangle=90,shadow=True);"
      ],
      "execution_count": 25,
      "outputs": [
        {
          "output_type": "display_data",
          "data": {
            "image/png": "[encoded data removed]",
            "text/plain": [
              "<Figure size 432x288 with 1 Axes>"
            ]
          },
          "metadata": {
            "tags": []
          }
        }
      ]
    },
    {
      "cell_type": "markdown",
      "metadata": {
        "id": "O7yCdrT3pU9J"
      },
      "source": [
        "Although there isn't much of a difference between rural and urban locations, the majority of responders living in rural areas had had a stroke."
      ]
    },
    {
      "cell_type": "markdown",
      "metadata": {
        "id": "_IWjmjAYqAUT"
      },
      "source": [
        "#### Bar graphs"
      ]
    },
    {
      "cell_type": "code",
      "metadata": {
        "colab": {
          "base_uri": "https://localhost:8080/",
          "height": 0
        },
        "id": "Z2kMKxvcpwf2",
        "outputId": "2a504dcc-e849-4881-d7ae-26703d2818db"
      },
      "source": [
        "# Work type bar graph \n",
        "\n",
        "plt.figure(figsize=(10,5))\n",
        "stroke['work_type'].value_counts().plot(kind='bar')\n",
        "plt.ylabel('counts')\n",
        "plt.title(' Indidviduals work type')\n",
        "plt.xlabel('work type')"
      ],
      "execution_count": 26,
      "outputs": [
        {
          "output_type": "execute_result",
          "data": {
            "text/plain": [
              "Text(0.5, 0, 'work type')"
            ]
          },
          "metadata": {
            "tags": []
          },
          "execution_count": 26
        },
        {
          "output_type": "display_data",
          "data": {
            "image/png": "[encoded data removed]",
            "text/plain": [
              "<Figure size 720x360 with 1 Axes>"
            ]
          },
          "metadata": {
            "tags": [],
            "needs_background": "light"
          }
        }
      ]
    },
    {
      "cell_type": "markdown",
      "metadata": {
        "id": "u4nigKuzrf3-"
      },
      "source": [
        "A higher % of people working in private sector were diagnosed with stroke."
      ]
    },
    {
      "cell_type": "code",
      "metadata": {
        "colab": {
          "base_uri": "https://localhost:8080/",
          "height": 0
        },
        "id": "rK34IA88rrqm",
        "outputId": "6328ab63-492e-484d-a439-d3441dfbe959"
      },
      "source": [
        "# Smoking status bar graph\n",
        "plt.figure(figsize=(10,5))\n",
        "stroke['smoking_status'].value_counts().plot(kind='bar')\n",
        "plt.ylabel('counts')\n",
        "plt.title(' Indidviduals smoking status')\n",
        "plt.xlabel('smoking status')"
      ],
      "execution_count": 27,
      "outputs": [
        {
          "output_type": "execute_result",
          "data": {
            "text/plain": [
              "Text(0.5, 0, 'smoking status')"
            ]
          },
          "metadata": {
            "tags": []
          },
          "execution_count": 27
        },
        {
          "output_type": "display_data",
          "data": {
            "image/png": "[encoded data removed]",
            "text/plain": [
              "<Figure size 720x360 with 1 Axes>"
            ]
          },
          "metadata": {
            "tags": [],
            "needs_background": "light"
          }
        }
      ]
    },
    {
      "cell_type": "markdown",
      "metadata": {
        "id": "1IBMCLfRsWjc"
      },
      "source": [
        "Most of the respondents who never smoked had stroke."
      ]
    },
    {
      "cell_type": "markdown",
      "metadata": {
        "id": "sdU5mrbssnY1"
      },
      "source": [
        "#### Histograms"
      ]
    },
    {
      "cell_type": "code",
      "metadata": {
        "colab": {
          "base_uri": "https://localhost:8080/",
          "height": 0
        },
        "id": "-Yn2es0Wsq77",
        "outputId": "70e2d208-83f5-4ded-b199-dce73c9d10c6"
      },
      "source": [
        "# Creating a histogram of respondents age\n",
        "age = healthdata['age']\n",
        "\n",
        "plt.hist(age, bins=10, histtype='bar', rwidth=0.9)\n",
        "\n",
        "plt.xlabel('x')\n",
        "plt.ylabel('y')\n",
        "plt.title('Histogram of Respondents age') \n",
        "plt.show()"
      ],
      "execution_count": 28,
      "outputs": [
        {
          "output_type": "display_data",
          "data": {
            "image/png": "[encoded data removed]",
            "text/plain": [
              "<Figure size 432x288 with 1 Axes>"
            ]
          },
          "metadata": {
            "tags": [],
            "needs_background": "light"
          }
        }
      ]
    },
    {
      "cell_type": "markdown",
      "metadata": {
        "id": "tnNMPf24tUIT"
      },
      "source": [
        "#### Measure of central tendency"
      ]
    },
    {
      "cell_type": "code",
      "metadata": {
        "colab": {
          "base_uri": "https://localhost:8080/",
          "height": 0
        },
        "id": "Rhxzfczs5KEG",
        "outputId": "0df18ce0-ef39-4bb3-aa91-e5a8c973fa27"
      },
      "source": [
        "healthdata.head(1)"
      ],
      "execution_count": 29,
      "outputs": [
        {
          "output_type": "execute_result",
          "data": {
            "text/html": [
              "<div>\n",
              "<style scoped>\n",
              "    .dataframe tbody tr th:only-of-type {\n",
              "        vertical-align: middle;\n",
              "    }\n",
              "\n",
              "    .dataframe tbody tr th {\n",
              "        vertical-align: top;\n",
              "    }\n",
              "\n",
              "    .dataframe thead th {\n",
              "        text-align: right;\n",
              "    }\n",
              "</style>\n",
              "<table border=\"1\" class=\"dataframe\">\n",
              "  <thead>\n",
              "    <tr style=\"text-align: right;\">\n",
              "      <th></th>\n",
              "      <th>gender</th>\n",
              "      <th>age</th>\n",
              "      <th>hypertension</th>\n",
              "      <th>heart_disease</th>\n",
              "      <th>ever_married</th>\n",
              "      <th>work_type</th>\n",
              "      <th>residence_type</th>\n",
              "      <th>avg_glucose_level</th>\n",
              "      <th>bmi</th>\n",
              "      <th>smoking_status</th>\n",
              "      <th>stroke</th>\n",
              "    </tr>\n",
              "  </thead>\n",
              "  <tbody>\n",
              "    <tr>\n",
              "      <th>0</th>\n",
              "      <td>Male</td>\n",
              "      <td>67.0</td>\n",
              "      <td>0</td>\n",
              "      <td>1</td>\n",
              "      <td>Yes</td>\n",
              "      <td>Private</td>\n",
              "      <td>Urban</td>\n",
              "      <td>228.69</td>\n",
              "      <td>36.6</td>\n",
              "      <td>formerly smoked</td>\n",
              "      <td>1</td>\n",
              "    </tr>\n",
              "  </tbody>\n",
              "</table>\n",
              "</div>"
            ],
            "text/plain": [
              "  gender   age  hypertension  ...   bmi   smoking_status stroke\n",
              "0   Male  67.0             0  ...  36.6  formerly smoked      1\n",
              "\n",
              "[1 rows x 11 columns]"
            ]
          },
          "metadata": {
            "tags": []
          },
          "execution_count": 29
        }
      ]
    },
    {
      "cell_type": "markdown",
      "metadata": {
        "id": "qrw5gIsvtc8f"
      },
      "source": [
        "Mean\n"
      ]
    },
    {
      "cell_type": "code",
      "metadata": {
        "colab": {
          "base_uri": "https://localhost:8080/"
        },
        "id": "vzfxe-oc5D4M",
        "outputId": "8197eb5a-3c13-44a9-f20a-056cbd91ec2f"
      },
      "source": [
        "# Finding mean of the columns\n",
        "print(\"The average of age is:\",healthdata.age.mean())\n",
        "print(\"The average of glucose level is:\", healthdata.avg_glucose_level.mean())\n",
        "print(\"The average of Bmi is:\",healthdata.bmi.mean())"
      ],
      "execution_count": 30,
      "outputs": [
        {
          "output_type": "stream",
          "text": [
            "The average of age is: 42.868810105949485\n",
            "The average of glucose level is: 105.29740220048868\n",
            "The average of Bmi is: 28.894559902200502\n"
          ],
          "name": "stdout"
        }
      ]
    },
    {
      "cell_type": "markdown",
      "metadata": {
        "id": "0x-AN6M0terj"
      },
      "source": [
        "Median"
      ]
    },
    {
      "cell_type": "code",
      "metadata": {
        "colab": {
          "base_uri": "https://localhost:8080/"
        },
        "id": "OcO5Flj-5zMU",
        "outputId": "5f774348-8d86-415e-f072-67e0dcba71ce"
      },
      "source": [
        "print(\"The median of age is:\",healthdata.age.median())\n",
        "print(\"The median of glucose level is:\", healthdata.avg_glucose_level.median())\n",
        "print(\"The median of Bmi is:\",healthdata.bmi.median())"
      ],
      "execution_count": 31,
      "outputs": [
        {
          "output_type": "stream",
          "text": [
            "The median of age is: 44.0\n",
            "The median of glucose level is: 91.68\n",
            "The median of Bmi is: 28.1\n"
          ],
          "name": "stdout"
        }
      ]
    },
    {
      "cell_type": "markdown",
      "metadata": {
        "id": "lu8G-xavthJ3"
      },
      "source": [
        "Mode"
      ]
    },
    {
      "cell_type": "code",
      "metadata": {
        "colab": {
          "base_uri": "https://localhost:8080/"
        },
        "id": "DN5Pd_8F6AwN",
        "outputId": "b77d33f1-fd5e-465b-c1af-654fffd695bb"
      },
      "source": [
        "print(\"The mode of age is:\",healthdata.age.mode())"
      ],
      "execution_count": 32,
      "outputs": [
        {
          "output_type": "stream",
          "text": [
            "The mode of age is: 0    57.0\n",
            "1    78.0\n",
            "dtype: float64\n"
          ],
          "name": "stdout"
        }
      ]
    },
    {
      "cell_type": "code",
      "metadata": {
        "colab": {
          "base_uri": "https://localhost:8080/"
        },
        "id": "QT71s3gu6M9d",
        "outputId": "d5a740b8-95de-44b4-8e11-49a2c01d7aac"
      },
      "source": [
        "print(\"The mode of glucose level is:\", healthdata.avg_glucose_level.mode())"
      ],
      "execution_count": 33,
      "outputs": [
        {
          "output_type": "stream",
          "text": [
            "The mode of glucose level is: 0    93.88\n",
            "dtype: float64\n"
          ],
          "name": "stdout"
        }
      ]
    },
    {
      "cell_type": "code",
      "metadata": {
        "colab": {
          "base_uri": "https://localhost:8080/"
        },
        "id": "Jcw1Wsq96O4d",
        "outputId": "c42132c9-82a6-4461-bdda-658a1a43827b"
      },
      "source": [
        "print(\"The mode of bmi is:\",healthdata.bmi.mode())"
      ],
      "execution_count": 34,
      "outputs": [
        {
          "output_type": "stream",
          "text": [
            "The mode of bmi is: 0    28.7\n",
            "dtype: float64\n"
          ],
          "name": "stdout"
        }
      ]
    },
    {
      "cell_type": "markdown",
      "metadata": {
        "id": "_ZShjeL5tozW"
      },
      "source": [
        "#### Measures of dispersion"
      ]
    },
    {
      "cell_type": "markdown",
      "metadata": {
        "id": "l8nF74U2tiNn"
      },
      "source": [
        "Range\n",
        "\n",
        "\n"
      ]
    },
    {
      "cell_type": "code",
      "metadata": {
        "colab": {
          "base_uri": "https://localhost:8080/"
        },
        "id": "oG_8QEAN6gLj",
        "outputId": "68341f41-3779-482d-a917-d63ce3bef5d9"
      },
      "source": [
        "# Range of the age\n",
        "age_max = healthdata['age'].max()\n",
        "age_min = healthdata['age'].min()\n",
        "\n",
        "age_range = age_max - age_min\n",
        "\n",
        "print(age_max,age_min)\n",
        "print(age_range)"
      ],
      "execution_count": 35,
      "outputs": [
        {
          "output_type": "stream",
          "text": [
            "82.0 0.08\n",
            "81.92\n"
          ],
          "name": "stdout"
        }
      ]
    },
    {
      "cell_type": "code",
      "metadata": {
        "colab": {
          "base_uri": "https://localhost:8080/"
        },
        "id": "eXhidKAC6yS3",
        "outputId": "2b942e1e-e960-4ec6-de78-3eebc93e08dc"
      },
      "source": [
        "# Range of the glucose leve;\n",
        "age_max = healthdata.avg_glucose_level.max()\n",
        "age_min = healthdata.avg_glucose_level.min()\n",
        "\n",
        "age_range = age_max - age_min\n",
        "\n",
        "print(age_max,age_min)\n",
        "print(age_range)"
      ],
      "execution_count": 36,
      "outputs": [
        {
          "output_type": "stream",
          "text": [
            "271.74 55.12\n",
            "216.62\n"
          ],
          "name": "stdout"
        }
      ]
    },
    {
      "cell_type": "code",
      "metadata": {
        "colab": {
          "base_uri": "https://localhost:8080/"
        },
        "id": "2fbcYqLy68kJ",
        "outputId": "96e5ecef-369f-475e-a873-7b5996fc5e3a"
      },
      "source": [
        "# Range of the bmi;\n",
        "age_max = healthdata.bmi.max()\n",
        "age_min = healthdata.bmi.min()\n",
        "\n",
        "age_range = age_max - age_min\n",
        "\n",
        "print(age_max,age_min)\n",
        "print(age_range)"
      ],
      "execution_count": 37,
      "outputs": [
        {
          "output_type": "stream",
          "text": [
            "97.6 10.3\n",
            "87.3\n"
          ],
          "name": "stdout"
        }
      ]
    },
    {
      "cell_type": "markdown",
      "metadata": {
        "id": "s8dQRwKktkPh"
      },
      "source": [
        "Quantile"
      ]
    },
    {
      "cell_type": "code",
      "metadata": {
        "colab": {
          "base_uri": "https://localhost:8080/"
        },
        "id": "3eWaTCWO7JCi",
        "outputId": "f32eea9c-822e-47b8-9163-e799a7cc7a39"
      },
      "source": [
        "# Quantiles of the age,glucose level,bmi\n",
        "\n",
        "print(\"Age:\",healthdata.age.quantile([0.25,0.5,0.75]))\n"
      ],
      "execution_count": 38,
      "outputs": [
        {
          "output_type": "stream",
          "text": [
            "Age: 0.25    25.0\n",
            "0.50    44.0\n",
            "0.75    60.0\n",
            "Name: age, dtype: float64\n"
          ],
          "name": "stdout"
        }
      ]
    },
    {
      "cell_type": "code",
      "metadata": {
        "colab": {
          "base_uri": "https://localhost:8080/"
        },
        "id": "t7eHUGri7nTy",
        "outputId": "afff92aa-81d7-4141-965d-a3e9697f8e98"
      },
      "source": [
        "print(\"Glucose:\",healthdata.avg_glucose_level.quantile([0.25,0.5,0.75]))\n"
      ],
      "execution_count": 39,
      "outputs": [
        {
          "output_type": "stream",
          "text": [
            "Glucose: 0.25     77.0675\n",
            "0.50     91.6800\n",
            "0.75    113.4950\n",
            "Name: avg_glucose_level, dtype: float64\n"
          ],
          "name": "stdout"
        }
      ]
    },
    {
      "cell_type": "code",
      "metadata": {
        "colab": {
          "base_uri": "https://localhost:8080/"
        },
        "id": "0DbIw0ln7iyf",
        "outputId": "85cbd5ab-2715-44fa-9b64-03a7891bddfc"
      },
      "source": [
        "print(\"BMI:\",healthdata.bmi.quantile([0.25,0.5,0.75]))"
      ],
      "execution_count": 40,
      "outputs": [
        {
          "output_type": "stream",
          "text": [
            "BMI: 0.25    23.5\n",
            "0.50    28.1\n",
            "0.75    33.1\n",
            "Name: bmi, dtype: float64\n"
          ],
          "name": "stdout"
        }
      ]
    },
    {
      "cell_type": "markdown",
      "metadata": {
        "id": "crNA2FJltv5X"
      },
      "source": [
        "Standard deviation"
      ]
    },
    {
      "cell_type": "code",
      "metadata": {
        "colab": {
          "base_uri": "https://localhost:8080/"
        },
        "id": "oIlj0NSK7wPc",
        "outputId": "a77d1549-ccac-4a6b-c0f3-d44454411f47"
      },
      "source": [
        "# Standard Deviation of the age,glucose level,bmi\n",
        "\n",
        "print(\"Age:\",healthdata.age.std())\n",
        "print(\"Glucose:\",healthdata.avg_glucose_level.std())\n",
        "print(\"BMI:\",healthdata.bmi.std())"
      ],
      "execution_count": 41,
      "outputs": [
        {
          "output_type": "stream",
          "text": [
            "Age: 22.556127929310982\n",
            "Glucose: 44.42555018990281\n",
            "BMI: 7.854319913144661\n"
          ],
          "name": "stdout"
        }
      ]
    },
    {
      "cell_type": "markdown",
      "metadata": {
        "id": "Webp0ypmt3xZ"
      },
      "source": [
        "Variance"
      ]
    },
    {
      "cell_type": "code",
      "metadata": {
        "colab": {
          "base_uri": "https://localhost:8080/"
        },
        "id": "UY1ICHII8V-k",
        "outputId": "3bf47cc6-bf27-4df6-8fee-28661552606c"
      },
      "source": [
        "# Variance of the age,bmi,glucoselevel\n",
        "\n",
        "print(\"Age:\",healthdata.age.var())\n",
        "print(\"Glucose\",healthdata.avg_glucose_level.var())\n",
        "print(\"BMI\",healthdata.bmi.var())"
      ],
      "execution_count": 42,
      "outputs": [
        {
          "output_type": "stream",
          "text": [
            "Age: 508.77890716344285\n",
            "Glucose 1973.6295096755732\n",
            "BMI 61.690341298020755\n"
          ],
          "name": "stdout"
        }
      ]
    },
    {
      "cell_type": "markdown",
      "metadata": {
        "id": "hYRd-m68t_7X"
      },
      "source": [
        "Skewness"
      ]
    },
    {
      "cell_type": "code",
      "metadata": {
        "colab": {
          "base_uri": "https://localhost:8080/"
        },
        "id": "w57nQ0ip9PPZ",
        "outputId": "7ef42883-7c50-41bb-fa88-5e31a1f9db60"
      },
      "source": [
        "# Skewness of the age,BBMI,glucose\n",
        "\n",
        "print(\"Age:\",healthdata.age.skew())\n",
        "print(\"Glucose\",healthdata.avg_glucose_level.skew())\n",
        "print(\"BMI\",healthdata.bmi.skew())"
      ],
      "execution_count": 43,
      "outputs": [
        {
          "output_type": "stream",
          "text": [
            "Age: -0.11944974553359676\n",
            "Glucose 1.6146189548397685\n",
            "BMI 1.055062949042646\n"
          ],
          "name": "stdout"
        }
      ]
    },
    {
      "cell_type": "markdown",
      "metadata": {
        "id": "OSiY3m6W92QS"
      },
      "source": [
        "- The age distribution is negatively skewed(left skewed).\n",
        "- The Glucose and BMI distribution is positively skewed(Right skewed)"
      ]
    },
    {
      "cell_type": "markdown",
      "metadata": {
        "id": "XYKTw1EfuCkI"
      },
      "source": [
        "Kurtosis"
      ]
    },
    {
      "cell_type": "code",
      "metadata": {
        "colab": {
          "base_uri": "https://localhost:8080/"
        },
        "id": "Rdhqiw0e9jlf",
        "outputId": "ce9f021d-7f36-46c0-c9d9-c57d417f511f"
      },
      "source": [
        "# Kurtosis of the age,BMI, Glucose\n",
        "print(\"Age:\",healthdata.age.kurt())\n",
        "print(\"Glucose\",healthdata.avg_glucose_level.kurt())\n",
        "print(\"BMI\",healthdata.bmi.kurt())"
      ],
      "execution_count": 44,
      "outputs": [
        {
          "output_type": "stream",
          "text": [
            "Age: -0.9880330634410388\n",
            "Glucose 1.9070846801022832\n",
            "BMI 3.3623297157988485\n"
          ],
          "name": "stdout"
        }
      ]
    },
    {
      "cell_type": "markdown",
      "metadata": {
        "id": "2A7s6yWD-SNN"
      },
      "source": [
        "- The glucose and Bmi distributions are highly peaked.\n",
        "- The BMI distribution has heavier tail distribution than age and Glucose level."
      ]
    },
    {
      "cell_type": "markdown",
      "metadata": {
        "id": "1jy0IDhhBZFD"
      },
      "source": [
        "### Bivariate Analysis"
      ]
    },
    {
      "cell_type": "markdown",
      "metadata": {
        "id": "mC9XYSOa7ggk"
      },
      "source": [
        "#### Numericals"
      ]
    },
    {
      "cell_type": "code",
      "metadata": {
        "colab": {
          "base_uri": "https://localhost:8080/",
          "height": 0
        },
        "id": "fi_tJuRfs-5P",
        "outputId": "4a6a3e7d-c124-446b-bdaf-45c81dfb8d04"
      },
      "source": [
        "sns.pairplot(healthdata)\n",
        "plt.show()\n",
        "##this shows that there is relationship between the numericals"
      ],
      "execution_count": 45,
      "outputs": [
        {
          "output_type": "display_data",
          "data": {
            "image/png": "[encoded data removed]",
            "text/plain": [
              "<Figure size 1080x1080 with 42 Axes>"
            ]
          },
          "metadata": {
            "tags": [],
            "needs_background": "light"
          }
        }
      ]
    },
    {
      "cell_type": "code",
      "metadata": {
        "colab": {
          "base_uri": "https://localhost:8080/",
          "height": 0
        },
        "id": "q8cjsRiZthl1",
        "outputId": "94d2cef2-78f6-49f0-d8c0-06ba884f7fd7"
      },
      "source": [
        "sns.heatmap(healthdata.corr(), annot=True)\n",
        "plt.show()\n",
        "##it clearly show how the numerical data have relationship"
      ],
      "execution_count": 46,
      "outputs": [
        {
          "output_type": "display_data",
          "data": {
            "image/png": "[encoded data removed]",
            "text/plain": [
              "<Figure size 432x288 with 2 Axes>"
            ]
          },
          "metadata": {
            "tags": [],
            "needs_background": "light"
          }
        }
      ]
    },
    {
      "cell_type": "code",
      "metadata": {
        "colab": {
          "base_uri": "https://localhost:8080/"
        },
        "id": "66aoCV-IuGqT",
        "outputId": "2f4896b6-9c5d-4e69-fd37-5ea68cb124f2"
      },
      "source": [
        "# Calculating the pearson coefficient\n",
        "pearson_coeff = healthdata['age'].corr(healthdata['bmi'], method=\"pearson\") \n",
        "print(pearson_coeff)\n",
        "\n",
        "#It shows positive correlation, there is a relationship"
      ],
      "execution_count": 47,
      "outputs": [
        {
          "output_type": "stream",
          "text": [
            "0.33331421806774447\n"
          ],
          "name": "stdout"
        }
      ]
    },
    {
      "cell_type": "code",
      "metadata": {
        "id": "TGOieCUg751C",
        "colab": {
          "base_uri": "https://localhost:8080/"
        },
        "outputId": "6d84d2a2-dcac-4949-c4d5-9b09720c187d"
      },
      "source": [
        "pearson_coeff = healthdata['age'].corr(healthdata['stroke'], method=\"pearson\") \n",
        "print(pearson_coeff)\n",
        "#It shows week positive correlation, there is a relationship"
      ],
      "execution_count": 48,
      "outputs": [
        {
          "output_type": "stream",
          "text": [
            "0.2323130131306692\n"
          ],
          "name": "stdout"
        }
      ]
    },
    {
      "cell_type": "markdown",
      "metadata": {
        "id": "CHgTvGUV7kFi"
      },
      "source": [
        "#### Categorical"
      ]
    },
    {
      "cell_type": "code",
      "metadata": {
        "colab": {
          "base_uri": "https://localhost:8080/",
          "height": 0
        },
        "id": "KjHZcynOvQ5f",
        "outputId": "13c85fbc-811f-495c-ebde-1680988e3b3f"
      },
      "source": [
        "fig, (ax1,ax2) = plt.subplots(1,2,  figsize=(12, 5))\n",
        "fig.suptitle('categorical-numerical relationship (Marriage)')\n",
        "sns.barplot(x=healthdata['ever_married'], y= healthdata['age'], ax=ax1)\n",
        "sns.barplot(x=healthdata['ever_married'], y= healthdata['bmi'], ax=ax2)\n",
        "plt.show();\n",
        "# Those who are married have higher average age and BMI than those who are not,"
      ],
      "execution_count": 49,
      "outputs": [
        {
          "output_type": "display_data",
          "data": {
            "image/png": "[encoded data removed]",
            "text/plain": [
              "<Figure size 864x360 with 2 Axes>"
            ]
          },
          "metadata": {
            "tags": [],
            "needs_background": "light"
          }
        }
      ]
    },
    {
      "cell_type": "code",
      "metadata": {
        "colab": {
          "base_uri": "https://localhost:8080/",
          "height": 0
        },
        "id": "Wy19DTM_1blM",
        "outputId": "4a192c81-7833-40b0-9dae-bb1ce761c788"
      },
      "source": [
        "\n",
        "fig, (ax1,ax2) = plt.subplots(1,2,  figsize=(12, 5))\n",
        "fig.suptitle('categorical-numerical relationship (Marriage)')\n",
        "sns.barplot(x=healthdata['ever_married'], y= healthdata['heart_disease'], ax=ax1)\n",
        "sns.barplot(x=healthdata['ever_married'], y= healthdata['hypertension'], ax=ax2)\n",
        "plt.show();\n",
        "# Those who are married are at a higher risk of getting heart diseases and hypertension than those who are not. "
      ],
      "execution_count": 50,
      "outputs": [
        {
          "output_type": "display_data",
          "data": {
            "image/png": "[encoded data removed]",
            "text/plain": [
              "<Figure size 864x360 with 2 Axes>"
            ]
          },
          "metadata": {
            "tags": [],
            "needs_background": "light"
          }
        }
      ]
    },
    {
      "cell_type": "code",
      "metadata": {
        "colab": {
          "base_uri": "https://localhost:8080/",
          "height": 0
        },
        "id": "_hJxdDP62Jli",
        "outputId": "e141ec23-1650-496f-b05c-2cc99ed17f67"
      },
      "source": [
        "fig, (ax1,ax2) = plt.subplots(1,2,  figsize=(12, 5))\n",
        "fig.suptitle('categorical-numerical relationship(Marriage)')\n",
        "sns.barplot(x=healthdata['ever_married'], y= healthdata['stroke'], ax=ax1)\n",
        "sns.barplot(x=healthdata['ever_married'], y= healthdata['avg_glucose_level'], ax=ax2)\n",
        "plt.show();\n",
        "# Those who are married are at a higher risk of getting stroke than those who are not, also their BMI level \n",
        "#is a bit higher."
      ],
      "execution_count": 51,
      "outputs": [
        {
          "output_type": "display_data",
          "data": {
            "image/png": "[encoded data removed]",
            "text/plain": [
              "<Figure size 864x360 with 2 Axes>"
            ]
          },
          "metadata": {
            "tags": [],
            "needs_background": "light"
          }
        }
      ]
    },
    {
      "cell_type": "code",
      "metadata": {
        "colab": {
          "base_uri": "https://localhost:8080/",
          "height": 0
        },
        "id": "46xnaQlUY1eC",
        "outputId": "70fe71d3-4ff5-458a-d508-2e4cb88fa3c8"
      },
      "source": [
        "fig, (ax1,ax2) = plt.subplots(1,2,  figsize=(12, 5))\n",
        "fig.suptitle('categorical-numerical relationship (Gender)')\n",
        "sns.barplot(x=healthdata['gender'], y=healthdata['age'], ax=ax1)\n",
        "sns.barplot(x=healthdata['gender'], y=healthdata['bmi'], ax=ax2)\n",
        "plt.show();\n",
        "# The average age of the 'other' gender is 28 with also the lowest BMI."
      ],
      "execution_count": 52,
      "outputs": [
        {
          "output_type": "display_data",
          "data": {
            "image/png": "[encoded data removed]",
            "text/plain": [
              "<Figure size 864x360 with 2 Axes>"
            ]
          },
          "metadata": {
            "tags": [],
            "needs_background": "light"
          }
        }
      ]
    },
    {
      "cell_type": "code",
      "metadata": {
        "colab": {
          "base_uri": "https://localhost:8080/",
          "height": 0
        },
        "id": "hli731e3xNQE",
        "outputId": "4cd6dd3d-f9e5-4325-94fe-e82d92788f4a"
      },
      "source": [
        "fig, (ax1,ax2) = plt.subplots(1,2,  figsize=(12, 5))\n",
        "fig.suptitle('categorical-numerical relationship(Gender)')\n",
        "sns.barplot(x=healthdata['gender'], y=healthdata['heart_disease'], ax=ax1)\n",
        "sns.barplot(x=healthdata['gender'], y=healthdata['hypertension'], ax=ax2)\n",
        "plt.show();\n",
        "#more males have heart disease and hypertension than the females."
      ],
      "execution_count": 53,
      "outputs": [
        {
          "output_type": "display_data",
          "data": {
            "image/png": "[encoded data removed]",
            "text/plain": [
              "<Figure size 864x360 with 2 Axes>"
            ]
          },
          "metadata": {
            "tags": [],
            "needs_background": "light"
          }
        }
      ]
    },
    {
      "cell_type": "code",
      "metadata": {
        "id": "mDZVvMwT7VhR",
        "colab": {
          "base_uri": "https://localhost:8080/",
          "height": 0
        },
        "outputId": "d6efd70f-90ae-4361-a391-af15b076ed05"
      },
      "source": [
        "fig, (ax1,ax2) = plt.subplots(1,2,  figsize=(12, 5))\n",
        "fig.suptitle('categorical-numerical relationship(Gender)')\n",
        "sns.barplot(x=healthdata['gender'], y=healthdata['stroke'], ax=ax1)\n",
        "sns.barplot(x=healthdata['gender'], y=healthdata['avg_glucose_level'], ax=ax2)\n",
        "plt.show()\n",
        "#on stroke level, both gender are almost on same level but the males are slightly higher.\n",
        "#both male and females have almost same glucose level but the other gender is slightly higher."
      ],
      "execution_count": 54,
      "outputs": [
        {
          "output_type": "display_data",
          "data": {
            "image/png": "[encoded data removed]",
            "text/plain": [
              "<Figure size 864x360 with 2 Axes>"
            ]
          },
          "metadata": {
            "tags": [],
            "needs_background": "light"
          }
        }
      ]
    },
    {
      "cell_type": "code",
      "metadata": {
        "colab": {
          "base_uri": "https://localhost:8080/",
          "height": 0
        },
        "id": "EVmtY_UTydPJ",
        "outputId": "ab6b461c-9bc2-4d7b-db46-98ce0a9c4e2c"
      },
      "source": [
        "fig, (ax1,ax2) = plt.subplots(1,2,  figsize=(12, 5))\n",
        "fig.suptitle('categorical-numerical relationship(Smoking Status)')\n",
        "sns.barplot(x=healthdata['smoking_status'], y=healthdata['heart_disease'], ax=ax1)\n",
        "sns.barplot(x=healthdata['smoking_status'], y=healthdata['hypertension'], ax=ax2)\n",
        "plt.show();\n",
        "\n",
        "# Both of those who formerly smoked and those who are currently smoking are more prone to heart disease. \n",
        "# Hypertension cases is higher for people whoforlmaly smoked. those who never smoked are at higher risk of \n",
        "# getting hyertension that those who are smoking"
      ],
      "execution_count": 55,
      "outputs": [
        {
          "output_type": "display_data",
          "data": {
            "image/png": "[encoded data removed]",
            "text/plain": [
              "<Figure size 864x360 with 2 Axes>"
            ]
          },
          "metadata": {
            "tags": [],
            "needs_background": "light"
          }
        }
      ]
    },
    {
      "cell_type": "code",
      "metadata": {
        "colab": {
          "base_uri": "https://localhost:8080/",
          "height": 0
        },
        "id": "6XoHn1s1y4PF",
        "outputId": "1515e0d8-19da-4d15-89d1-5eaf36739942"
      },
      "source": [
        "fig, (ax1,ax2) = plt.subplots(1,2,  figsize=(12, 5))\n",
        "fig.suptitle('categorical-numerical relationship (Smoking status)')\n",
        "sns.barplot(x=healthdata['smoking_status'], y=healthdata['age'], ax=ax1)\n",
        "sns.barplot(x=healthdata['smoking_status'], y=healthdata['bmi'], ax=ax2)\n",
        "plt.show();\n",
        "# Average age of people who smoke is 55 while those who dont smoke share same avarage age with those who \n",
        "# smokes at 45."
      ],
      "execution_count": 56,
      "outputs": [
        {
          "output_type": "display_data",
          "data": {
            "image/png": "[encoded data removed]",
            "text/plain": [
              "<Figure size 864x360 with 2 Axes>"
            ]
          },
          "metadata": {
            "tags": [],
            "needs_background": "light"
          }
        }
      ]
    },
    {
      "cell_type": "code",
      "metadata": {
        "colab": {
          "base_uri": "https://localhost:8080/",
          "height": 0
        },
        "id": "ucdwXnmqz8_H",
        "outputId": "fa9ff43d-ff7c-4e2b-fb53-988e641b94c6"
      },
      "source": [
        "fig, (ax1,ax2) = plt.subplots(1,2,  figsize=(12, 5))\n",
        "fig.suptitle('categorical-numerical relationship (Smoking status)')\n",
        "sns.barplot(x=healthdata['smoking_status'], y=healthdata['stroke'], ax=ax1)\n",
        "sns.barplot(x=healthdata['smoking_status'], y=healthdata['avg_glucose_level'], ax=ax2)\n",
        "plt.show();\n",
        "#People who formerly smoked are at higher risk of stroke, there is no much difference between people who \n",
        "#smoke and those who dont "
      ],
      "execution_count": 57,
      "outputs": [
        {
          "output_type": "display_data",
          "data": {
            "image/png": "[encoded data removed]",
            "text/plain": [
              "<Figure size 864x360 with 2 Axes>"
            ]
          },
          "metadata": {
            "tags": [],
            "needs_background": "light"
          }
        }
      ]
    },
    {
      "cell_type": "code",
      "metadata": {
        "colab": {
          "base_uri": "https://localhost:8080/",
          "height": 0
        },
        "id": "Xtr_4Q-MzjPD",
        "outputId": "69452f4b-7d85-4b30-a1d6-932ea375fac1"
      },
      "source": [
        "fig, (ax1,ax2) = plt.subplots(1,2,  figsize=(12, 5))\n",
        "fig.suptitle('categorical-numerical relationship (Resident-type)')\n",
        "sns.barplot(x=healthdata['residence_type'], y=healthdata['heart_disease'], ax=ax1)\n",
        "sns.barplot(x=healthdata['residence_type'], y=healthdata['hypertension'], ax=ax2)\n",
        "plt.show();\n",
        "# Average heart disease and hypertension is almost same on people who live both in rural or urban areas."
      ],
      "execution_count": 58,
      "outputs": [
        {
          "output_type": "display_data",
          "data": {
            "image/png": "[encoded data removed]",
            "text/plain": [
              "<Figure size 864x360 with 2 Axes>"
            ]
          },
          "metadata": {
            "tags": [],
            "needs_background": "light"
          }
        }
      ]
    },
    {
      "cell_type": "code",
      "metadata": {
        "colab": {
          "base_uri": "https://localhost:8080/",
          "height": 0
        },
        "id": "AwgV72yzzek2",
        "outputId": "a9713f0a-4459-48ab-8d51-7b52398d4905"
      },
      "source": [
        "fig, (ax1,ax2) = plt.subplots(1,2,  figsize=(12, 5))\n",
        "fig.suptitle('categorical-numerical relationship (Residence type)')\n",
        "sns.barplot(x=healthdata['residence_type'], y=healthdata['avg_glucose_level'], ax=ax1)\n",
        "sns.barplot(x=healthdata['residence_type'], y=healthdata['stroke'], ax=ax2)\n",
        "plt.show();\n",
        "# Urban people are prone more to stroke than their rural counterparts."
      ],
      "execution_count": 59,
      "outputs": [
        {
          "output_type": "display_data",
          "data": {
            "image/png": "[encoded data removed]",
            "text/plain": [
              "<Figure size 864x360 with 2 Axes>"
            ]
          },
          "metadata": {
            "tags": [],
            "needs_background": "light"
          }
        }
      ]
    },
    {
      "cell_type": "code",
      "metadata": {
        "colab": {
          "base_uri": "https://localhost:8080/",
          "height": 0
        },
        "id": "0P2PBkTz0c-y",
        "outputId": "f00bc089-114f-4400-e599-0fd9fa3252d4"
      },
      "source": [
        "fig, (ax1,ax2) = plt.subplots(1,2,  figsize=(12, 5))\n",
        "fig.suptitle('categorical-numerical relationship (Work type)')\n",
        "sns.barplot(x=healthdata['work_type'], y=healthdata['avg_glucose_level'], ax=ax1)\n",
        "sns.barplot(x=healthdata['work_type'], y=healthdata['stroke'], ax=ax2)\n",
        "plt.show();\n",
        "# All work type have almost the same glucose level but self employed people are affected more by stroke."
      ],
      "execution_count": 60,
      "outputs": [
        {
          "output_type": "display_data",
          "data": {
            "image/png": "[encoded data removed]",
            "text/plain": [
              "<Figure size 864x360 with 2 Axes>"
            ]
          },
          "metadata": {
            "tags": [],
            "needs_background": "light"
          }
        }
      ]
    },
    {
      "cell_type": "code",
      "metadata": {
        "colab": {
          "base_uri": "https://localhost:8080/",
          "height": 0
        },
        "id": "3-uaxq_O0ogU",
        "outputId": "47c1c576-294f-4fd7-f2b0-fb96fe8dca8c"
      },
      "source": [
        "fig, (ax1,ax2) = plt.subplots(1,2,  figsize=(12, 5))\n",
        "fig.suptitle('categorical-numerical relationshi (Work Type)')\n",
        "sns.barplot(x=healthdata['work_type'], y=healthdata['heart_disease'], ax=ax1)\n",
        "sns.barplot(x=healthdata['work_type'], y=healthdata['hypertension'], ax=ax2)\n",
        "plt.show();\n",
        "# Self employed people have higher number in heart disease and hypertension."
      ],
      "execution_count": 61,
      "outputs": [
        {
          "output_type": "display_data",
          "data": {
            "image/png": "[encoded data removed]",
            "text/plain": [
              "<Figure size 864x360 with 2 Axes>"
            ]
          },
          "metadata": {
            "tags": [],
            "needs_background": "light"
          }
        }
      ]
    },
    {
      "cell_type": "code",
      "metadata": {
        "colab": {
          "base_uri": "https://localhost:8080/",
          "height": 0
        },
        "id": "DlXpIw0x1Grx",
        "outputId": "2527edd1-d6ab-4514-da1d-4ecc2e621d2a"
      },
      "source": [
        "fig, (ax1,ax2) = plt.subplots(1,2,  figsize=(12, 5))\n",
        "fig.suptitle('categorical-numerical relationship (Work Type)')\n",
        "sns.barplot(x=healthdata['work_type'], y=healthdata['age'], ax=ax1)\n",
        "sns.barplot(x=healthdata['work_type'], y=healthdata['bmi'], ax=ax2)\n",
        "plt.show();\n",
        "# Average age of self-employed is higher compared to the other work types. As expected the BMI of children is the lowest followed by people who never worked."
      ],
      "execution_count": 62,
      "outputs": [
        {
          "output_type": "display_data",
          "data": {
            "image/png": "[encoded data removed]",
            "text/plain": [
              "<Figure size 864x360 with 2 Axes>"
            ]
          },
          "metadata": {
            "tags": [],
            "needs_background": "light"
          }
        }
      ]
    },
    {
      "cell_type": "markdown",
      "metadata": {
        "id": "zrdHGFuJPsP9"
      },
      "source": [
        "### Tests on Bivariate Analysis"
      ]
    },
    {
      "cell_type": "markdown",
      "metadata": {
        "id": "UXVcuDlZQaEu"
      },
      "source": [
        "#### Gender and stroke"
      ]
    },
    {
      "cell_type": "code",
      "metadata": {
        "id": "opQg5Z40Rt2y",
        "outputId": "033d2eed-81fc-4b4e-e1ac-d62db8f8e5d8",
        "colab": {
          "base_uri": "https://localhost:8080/",
          "height": 173
        }
      },
      "source": [
        "pd.crosstab(healthdata['stroke'],healthdata['gender'],margins=True,margins_name='Total')"
      ],
      "execution_count": 63,
      "outputs": [
        {
          "output_type": "execute_result",
          "data": {
            "text/html": [
              "<div>\n",
              "<style scoped>\n",
              "    .dataframe tbody tr th:only-of-type {\n",
              "        vertical-align: middle;\n",
              "    }\n",
              "\n",
              "    .dataframe tbody tr th {\n",
              "        vertical-align: top;\n",
              "    }\n",
              "\n",
              "    .dataframe thead th {\n",
              "        text-align: right;\n",
              "    }\n",
              "</style>\n",
              "<table border=\"1\" class=\"dataframe\">\n",
              "  <thead>\n",
              "    <tr style=\"text-align: right;\">\n",
              "      <th>gender</th>\n",
              "      <th>Female</th>\n",
              "      <th>Male</th>\n",
              "      <th>Total</th>\n",
              "    </tr>\n",
              "    <tr>\n",
              "      <th>stroke</th>\n",
              "      <th></th>\n",
              "      <th></th>\n",
              "      <th></th>\n",
              "    </tr>\n",
              "  </thead>\n",
              "  <tbody>\n",
              "    <tr>\n",
              "      <th>0</th>\n",
              "      <td>2777</td>\n",
              "      <td>1922</td>\n",
              "      <td>4699</td>\n",
              "    </tr>\n",
              "    <tr>\n",
              "      <th>1</th>\n",
              "      <td>120</td>\n",
              "      <td>89</td>\n",
              "      <td>209</td>\n",
              "    </tr>\n",
              "    <tr>\n",
              "      <th>Total</th>\n",
              "      <td>2897</td>\n",
              "      <td>2011</td>\n",
              "      <td>4908</td>\n",
              "    </tr>\n",
              "  </tbody>\n",
              "</table>\n",
              "</div>"
            ],
            "text/plain": [
              "gender  Female  Male  Total\n",
              "stroke                     \n",
              "0         2777  1922   4699\n",
              "1          120    89    209\n",
              "Total     2897  2011   4908"
            ]
          },
          "metadata": {
            "tags": []
          },
          "execution_count": 63
        }
      ]
    },
    {
      "cell_type": "code",
      "metadata": {
        "id": "aNyCqvVYRu19",
        "outputId": "96553a01-59a0-4616-f82f-e2122b88da16",
        "colab": {
          "base_uri": "https://localhost:8080/",
          "height": 321
        }
      },
      "source": [
        "color=['g','r']\n",
        "pd.crosstab(healthdata['gender'],healthdata['stroke']).plot(kind='bar',color=color)\n",
        "plt.title('gender of patient vs them having stroke')\n",
        "plt.ylabel('count')\n",
        "plt.show()"
      ],
      "execution_count": 101,
      "outputs": [
        {
          "output_type": "display_data",
          "data": {
            "image/png": "[encoded data removed]",
            "text/plain": [
              "<Figure size 432x288 with 1 Axes>"
            ]
          },
          "metadata": {
            "tags": [],
            "needs_background": "light"
          }
        }
      ]
    },
    {
      "cell_type": "markdown",
      "metadata": {
        "id": "_vootctiRxBQ"
      },
      "source": [
        "We can see that more females suffered from stroke\n",
        "\n",
        "we will perform a chi squared test, to accertain if the gender of a person can influence if someone had stroke or not"
      ]
    },
    {
      "cell_type": "code",
      "metadata": {
        "id": "ZfSRIgvfR8kb",
        "outputId": "3450a4e8-36b6-4da4-f873-a57cab9fb777",
        "colab": {
          "base_uri": "https://localhost:8080/"
        }
      },
      "source": [
        "stats.chi2_contingency(pd.crosstab(healthdata['stroke'],healthdata['gender']))\n",
        "#from the results above, we can see that this test did not have accurate results. This is because of the imbalance in the gender column"
      ],
      "execution_count": 65,
      "outputs": [
        {
          "output_type": "execute_result",
          "data": {
            "text/plain": [
              "(0.16955129804441268,\n",
              " 0.6805108914997836,\n",
              " 1,\n",
              " array([[2773.63549307, 1925.36450693],\n",
              "        [ 123.36450693,   85.63549307]]))"
            ]
          },
          "metadata": {
            "tags": []
          },
          "execution_count": 65
        }
      ]
    },
    {
      "cell_type": "markdown",
      "metadata": {
        "id": "yvesm1DRgtZ7"
      },
      "source": [
        "From the chi test, we can see that the gender does not determine if someone has stroke or not"
      ]
    },
    {
      "cell_type": "markdown",
      "metadata": {
        "id": "z6xbbnPaQdBH"
      },
      "source": [
        "#### Hypertension and stroke"
      ]
    },
    {
      "cell_type": "code",
      "metadata": {
        "id": "9ZZ3H_L-SYJH",
        "outputId": "9d04e5fb-5e2f-43b6-b215-7cbd119e04c9",
        "colab": {
          "base_uri": "https://localhost:8080/",
          "height": 173
        }
      },
      "source": [
        "pd.crosstab(healthdata['stroke'],healthdata['hypertension'],margins=True,margins_name='Total')"
      ],
      "execution_count": 66,
      "outputs": [
        {
          "output_type": "execute_result",
          "data": {
            "text/html": [
              "<div>\n",
              "<style scoped>\n",
              "    .dataframe tbody tr th:only-of-type {\n",
              "        vertical-align: middle;\n",
              "    }\n",
              "\n",
              "    .dataframe tbody tr th {\n",
              "        vertical-align: top;\n",
              "    }\n",
              "\n",
              "    .dataframe thead th {\n",
              "        text-align: right;\n",
              "    }\n",
              "</style>\n",
              "<table border=\"1\" class=\"dataframe\">\n",
              "  <thead>\n",
              "    <tr style=\"text-align: right;\">\n",
              "      <th>hypertension</th>\n",
              "      <th>0</th>\n",
              "      <th>1</th>\n",
              "      <th>Total</th>\n",
              "    </tr>\n",
              "    <tr>\n",
              "      <th>stroke</th>\n",
              "      <th></th>\n",
              "      <th></th>\n",
              "      <th></th>\n",
              "    </tr>\n",
              "  </thead>\n",
              "  <tbody>\n",
              "    <tr>\n",
              "      <th>0</th>\n",
              "      <td>4308</td>\n",
              "      <td>391</td>\n",
              "      <td>4699</td>\n",
              "    </tr>\n",
              "    <tr>\n",
              "      <th>1</th>\n",
              "      <td>149</td>\n",
              "      <td>60</td>\n",
              "      <td>209</td>\n",
              "    </tr>\n",
              "    <tr>\n",
              "      <th>Total</th>\n",
              "      <td>4457</td>\n",
              "      <td>451</td>\n",
              "      <td>4908</td>\n",
              "    </tr>\n",
              "  </tbody>\n",
              "</table>\n",
              "</div>"
            ],
            "text/plain": [
              "hypertension     0    1  Total\n",
              "stroke                        \n",
              "0             4308  391   4699\n",
              "1              149   60    209\n",
              "Total         4457  451   4908"
            ]
          },
          "metadata": {
            "tags": []
          },
          "execution_count": 66
        }
      ]
    },
    {
      "cell_type": "code",
      "metadata": {
        "id": "jQAR7AfiSYvP",
        "outputId": "279d4722-43ac-49eb-f9e1-7877287982eb",
        "colab": {
          "base_uri": "https://localhost:8080/",
          "height": 400
        }
      },
      "source": [
        "color=['g','r']\n",
        "pd.crosstab(healthdata['hypertension'],healthdata['stroke']).plot(kind='bar',figsize=(6,6),color=color)\n",
        "plt.ylabel('count')\n",
        "plt.title('hypertension vs stroke')\n",
        "plt.show()"
      ],
      "execution_count": 105,
      "outputs": [
        {
          "output_type": "display_data",
          "data": {
            "image/png": "[encoded data removed]",
            "text/plain": [
              "<Figure size 432x432 with 1 Axes>"
            ]
          },
          "metadata": {
            "tags": [],
            "needs_background": "light"
          }
        }
      ]
    },
    {
      "cell_type": "markdown",
      "metadata": {
        "id": "D88rm0WpSe7o"
      },
      "source": [
        "From the plot above, we can see that most people who suffered from stroke, they had hypertension related issues\n",
        "\n",
        "To test this, we perform a chi-squared test"
      ]
    },
    {
      "cell_type": "code",
      "metadata": {
        "id": "-H-w3TIkSgfz",
        "outputId": "5528bb32-6932-43a1-b084-8bd67eede2f0",
        "colab": {
          "base_uri": "https://localhost:8080/"
        }
      },
      "source": [
        "stats.chi2_contingency(pd.crosstab(healthdata['stroke'],healthdata['hypertension']))"
      ],
      "execution_count": 68,
      "outputs": [
        {
          "output_type": "execute_result",
          "data": {
            "text/plain": [
              "(97.23918231192063,\n",
              " 6.143875464115642e-23,\n",
              " 1,\n",
              " array([[4267.20517522,  431.79482478],\n",
              "        [ 189.79482478,   19.20517522]]))"
            ]
          },
          "metadata": {
            "tags": []
          },
          "execution_count": 68
        }
      ]
    },
    {
      "cell_type": "markdown",
      "metadata": {
        "id": "ym7_EIxdSmkx"
      },
      "source": [
        "From the test, the chi- statistic is 97.2\n",
        "\n",
        "the p-value is less than 0.05\n",
        "\n",
        "this can be interpreted to mean that there is a relationship btwn hypertension and someone suffering from stroke"
      ]
    },
    {
      "cell_type": "markdown",
      "metadata": {
        "id": "BrjdbG0BQmaF"
      },
      "source": [
        "#### Heart Disease and Stroke"
      ]
    },
    {
      "cell_type": "code",
      "metadata": {
        "id": "BeALzBKvS9RU",
        "outputId": "3f60c816-dd72-46aa-9427-9be621b95fab",
        "colab": {
          "base_uri": "https://localhost:8080/",
          "height": 173
        }
      },
      "source": [
        "pd.crosstab(healthdata['heart_disease'],healthdata['stroke'],margins=True,margins_name='Total')"
      ],
      "execution_count": 69,
      "outputs": [
        {
          "output_type": "execute_result",
          "data": {
            "text/html": [
              "<div>\n",
              "<style scoped>\n",
              "    .dataframe tbody tr th:only-of-type {\n",
              "        vertical-align: middle;\n",
              "    }\n",
              "\n",
              "    .dataframe tbody tr th {\n",
              "        vertical-align: top;\n",
              "    }\n",
              "\n",
              "    .dataframe thead th {\n",
              "        text-align: right;\n",
              "    }\n",
              "</style>\n",
              "<table border=\"1\" class=\"dataframe\">\n",
              "  <thead>\n",
              "    <tr style=\"text-align: right;\">\n",
              "      <th>stroke</th>\n",
              "      <th>0</th>\n",
              "      <th>1</th>\n",
              "      <th>Total</th>\n",
              "    </tr>\n",
              "    <tr>\n",
              "      <th>heart_disease</th>\n",
              "      <th></th>\n",
              "      <th></th>\n",
              "      <th></th>\n",
              "    </tr>\n",
              "  </thead>\n",
              "  <tbody>\n",
              "    <tr>\n",
              "      <th>0</th>\n",
              "      <td>4496</td>\n",
              "      <td>169</td>\n",
              "      <td>4665</td>\n",
              "    </tr>\n",
              "    <tr>\n",
              "      <th>1</th>\n",
              "      <td>203</td>\n",
              "      <td>40</td>\n",
              "      <td>243</td>\n",
              "    </tr>\n",
              "    <tr>\n",
              "      <th>Total</th>\n",
              "      <td>4699</td>\n",
              "      <td>209</td>\n",
              "      <td>4908</td>\n",
              "    </tr>\n",
              "  </tbody>\n",
              "</table>\n",
              "</div>"
            ],
            "text/plain": [
              "stroke            0    1  Total\n",
              "heart_disease                  \n",
              "0              4496  169   4665\n",
              "1               203   40    243\n",
              "Total          4699  209   4908"
            ]
          },
          "metadata": {
            "tags": []
          },
          "execution_count": 69
        }
      ]
    },
    {
      "cell_type": "code",
      "metadata": {
        "id": "HPFVGmycTAPS",
        "outputId": "3910309a-ddb9-4f2b-82e3-51cfc4eb6f8a",
        "colab": {
          "base_uri": "https://localhost:8080/",
          "height": 401
        }
      },
      "source": [
        "color=['g','r']\n",
        "pd.crosstab(healthdata['heart_disease'],healthdata['stroke']).plot(kind='bar',figsize=(6,6),color=color)\n",
        "plt.title('heart disease and stroke')\n",
        "plt.ylabel('count')\n",
        "plt.show()"
      ],
      "execution_count": 109,
      "outputs": [
        {
          "output_type": "display_data",
          "data": {
            "image/png": "[encoded data removed]",
            "text/plain": [
              "<Figure size 432x432 with 1 Axes>"
            ]
          },
          "metadata": {
            "tags": [],
            "needs_background": "light"
          }
        }
      ]
    },
    {
      "cell_type": "markdown",
      "metadata": {
        "id": "wUz7eBm_TBR2"
      },
      "source": [
        "From the bar plot above, we can see that most people who had stroke, also had heart related issues.\n",
        "\n",
        "To prove this, we will use the chi-squared test"
      ]
    },
    {
      "cell_type": "code",
      "metadata": {
        "id": "AEIJ5OFFTQF3",
        "outputId": "ce57e24e-d7fe-4f92-8901-188a363e2030",
        "colab": {
          "base_uri": "https://localhost:8080/"
        }
      },
      "source": [
        "stats.chi2_contingency(pd.crosstab(healthdata['heart_disease'],healthdata['stroke']))"
      ],
      "execution_count": 71,
      "outputs": [
        {
          "output_type": "execute_result",
          "data": {
            "text/plain": [
              "(90.24989255123297,\n",
              " 2.0990170036138994e-21,\n",
              " 1,\n",
              " array([[4466.34779951,  198.65220049],\n",
              "        [ 232.65220049,   10.34779951]]))"
            ]
          },
          "metadata": {
            "tags": []
          },
          "execution_count": 71
        }
      ]
    },
    {
      "cell_type": "markdown",
      "metadata": {
        "id": "YruJFIieTQlr"
      },
      "source": [
        "from the results above, the chi statistic is 90\n",
        "\n",
        "the p-value is less than the required 0.05 threshold\n",
        "\n",
        "this can be interpred to mean that the heart related issues also can be influence someone having a stroke"
      ]
    },
    {
      "cell_type": "markdown",
      "metadata": {
        "id": "s9q8y8yTQ5dY"
      },
      "source": [
        "#### ever married and stroke"
      ]
    },
    {
      "cell_type": "code",
      "metadata": {
        "id": "dx6xIurrTzgJ",
        "outputId": "18a0c837-03e2-4029-8d30-ff25b6f69444",
        "colab": {
          "base_uri": "https://localhost:8080/",
          "height": 173
        }
      },
      "source": [
        "pd.crosstab(healthdata['ever_married'],healthdata['stroke'],margins=True,margins_name='Total')"
      ],
      "execution_count": 72,
      "outputs": [
        {
          "output_type": "execute_result",
          "data": {
            "text/html": [
              "<div>\n",
              "<style scoped>\n",
              "    .dataframe tbody tr th:only-of-type {\n",
              "        vertical-align: middle;\n",
              "    }\n",
              "\n",
              "    .dataframe tbody tr th {\n",
              "        vertical-align: top;\n",
              "    }\n",
              "\n",
              "    .dataframe thead th {\n",
              "        text-align: right;\n",
              "    }\n",
              "</style>\n",
              "<table border=\"1\" class=\"dataframe\">\n",
              "  <thead>\n",
              "    <tr style=\"text-align: right;\">\n",
              "      <th>stroke</th>\n",
              "      <th>0</th>\n",
              "      <th>1</th>\n",
              "      <th>Total</th>\n",
              "    </tr>\n",
              "    <tr>\n",
              "      <th>ever_married</th>\n",
              "      <th></th>\n",
              "      <th></th>\n",
              "      <th></th>\n",
              "    </tr>\n",
              "  </thead>\n",
              "  <tbody>\n",
              "    <tr>\n",
              "      <th>No</th>\n",
              "      <td>1681</td>\n",
              "      <td>23</td>\n",
              "      <td>1704</td>\n",
              "    </tr>\n",
              "    <tr>\n",
              "      <th>Yes</th>\n",
              "      <td>3018</td>\n",
              "      <td>186</td>\n",
              "      <td>3204</td>\n",
              "    </tr>\n",
              "    <tr>\n",
              "      <th>Total</th>\n",
              "      <td>4699</td>\n",
              "      <td>209</td>\n",
              "      <td>4908</td>\n",
              "    </tr>\n",
              "  </tbody>\n",
              "</table>\n",
              "</div>"
            ],
            "text/plain": [
              "stroke           0    1  Total\n",
              "ever_married                  \n",
              "No            1681   23   1704\n",
              "Yes           3018  186   3204\n",
              "Total         4699  209   4908"
            ]
          },
          "metadata": {
            "tags": []
          },
          "execution_count": 72
        }
      ]
    },
    {
      "cell_type": "code",
      "metadata": {
        "id": "YCViYklNT1jL",
        "outputId": "a7ae26d1-53e9-4f41-b556-4cc70878d968",
        "colab": {
          "base_uri": "https://localhost:8080/",
          "height": 411
        }
      },
      "source": [
        "color=['g','r']\n",
        "pd.crosstab(healthdata['ever_married'],healthdata['stroke']).plot(kind='bar',figsize=(6,6),color=color)\n",
        "plt.title('ever married and stroke')\n",
        "plt.ylabel('count')\n",
        "plt.show()"
      ],
      "execution_count": 107,
      "outputs": [
        {
          "output_type": "display_data",
          "data": {
            "image/png": "[encoded data removed]",
            "text/plain": [
              "<Figure size 432x432 with 1 Axes>"
            ]
          },
          "metadata": {
            "tags": [],
            "needs_background": "light"
          }
        }
      ]
    },
    {
      "cell_type": "markdown",
      "metadata": {
        "id": "cT_yOg5LTwZD"
      },
      "source": [
        "From the plot above, we can see that most people who had stoke were married or have ever been married.\n",
        "\n",
        "But the majority of the respondents who we either married or not were not suffering from stroke\n",
        "\n",
        "We conduct a chi-squared test"
      ]
    },
    {
      "cell_type": "code",
      "metadata": {
        "id": "wp2tAymLT8tA",
        "outputId": "325e471b-f13c-4ef9-e318-d5b5876ced71",
        "colab": {
          "base_uri": "https://localhost:8080/"
        }
      },
      "source": [
        "stats.chi2_contingency(pd.crosstab(healthdata['ever_married'],healthdata['stroke']))"
      ],
      "execution_count": 74,
      "outputs": [
        {
          "output_type": "execute_result",
          "data": {
            "text/plain": [
              "(53.07579109223565,\n",
              " 3.2092342416320797e-13,\n",
              " 1,\n",
              " array([[1631.43765281,   72.56234719],\n",
              "        [3067.56234719,  136.43765281]]))"
            ]
          },
          "metadata": {
            "tags": []
          },
          "execution_count": 74
        }
      ]
    },
    {
      "cell_type": "markdown",
      "metadata": {
        "id": "AsMQYrDsT_Ug"
      },
      "source": [
        "from the test above, the p-value is less than 0.05\n",
        "\n",
        "this means that we can easily reject the null hypothesis\n",
        "\n",
        "this can be intepred to mean that the marital status can have an influence on someone having stroke or not"
      ]
    },
    {
      "cell_type": "markdown",
      "metadata": {
        "id": "Ap5L8u8oRDBo"
      },
      "source": [
        "#### work type and stroke"
      ]
    },
    {
      "cell_type": "code",
      "metadata": {
        "id": "7YGopYm4UcqN",
        "outputId": "db64e68f-b2d5-4efb-8a87-d710e9a3efce",
        "colab": {
          "base_uri": "https://localhost:8080/",
          "height": 266
        }
      },
      "source": [
        "pd.crosstab(healthdata['work_type'],healthdata['stroke'],margins=True,margins_name='Total')"
      ],
      "execution_count": 75,
      "outputs": [
        {
          "output_type": "execute_result",
          "data": {
            "text/html": [
              "<div>\n",
              "<style scoped>\n",
              "    .dataframe tbody tr th:only-of-type {\n",
              "        vertical-align: middle;\n",
              "    }\n",
              "\n",
              "    .dataframe tbody tr th {\n",
              "        vertical-align: top;\n",
              "    }\n",
              "\n",
              "    .dataframe thead th {\n",
              "        text-align: right;\n",
              "    }\n",
              "</style>\n",
              "<table border=\"1\" class=\"dataframe\">\n",
              "  <thead>\n",
              "    <tr style=\"text-align: right;\">\n",
              "      <th>stroke</th>\n",
              "      <th>0</th>\n",
              "      <th>1</th>\n",
              "      <th>Total</th>\n",
              "    </tr>\n",
              "    <tr>\n",
              "      <th>work_type</th>\n",
              "      <th></th>\n",
              "      <th></th>\n",
              "      <th></th>\n",
              "    </tr>\n",
              "  </thead>\n",
              "  <tbody>\n",
              "    <tr>\n",
              "      <th>Govt_job</th>\n",
              "      <td>602</td>\n",
              "      <td>28</td>\n",
              "      <td>630</td>\n",
              "    </tr>\n",
              "    <tr>\n",
              "      <th>Never_worked</th>\n",
              "      <td>22</td>\n",
              "      <td>0</td>\n",
              "      <td>22</td>\n",
              "    </tr>\n",
              "    <tr>\n",
              "      <th>Private</th>\n",
              "      <td>2683</td>\n",
              "      <td>127</td>\n",
              "      <td>2810</td>\n",
              "    </tr>\n",
              "    <tr>\n",
              "      <th>Self-employed</th>\n",
              "      <td>722</td>\n",
              "      <td>53</td>\n",
              "      <td>775</td>\n",
              "    </tr>\n",
              "    <tr>\n",
              "      <th>children</th>\n",
              "      <td>670</td>\n",
              "      <td>1</td>\n",
              "      <td>671</td>\n",
              "    </tr>\n",
              "    <tr>\n",
              "      <th>Total</th>\n",
              "      <td>4699</td>\n",
              "      <td>209</td>\n",
              "      <td>4908</td>\n",
              "    </tr>\n",
              "  </tbody>\n",
              "</table>\n",
              "</div>"
            ],
            "text/plain": [
              "stroke            0    1  Total\n",
              "work_type                      \n",
              "Govt_job        602   28    630\n",
              "Never_worked     22    0     22\n",
              "Private        2683  127   2810\n",
              "Self-employed   722   53    775\n",
              "children        670    1    671\n",
              "Total          4699  209   4908"
            ]
          },
          "metadata": {
            "tags": []
          },
          "execution_count": 75
        }
      ]
    },
    {
      "cell_type": "code",
      "metadata": {
        "id": "O1nb2ZpmUfFJ",
        "outputId": "305bebba-3a72-4edf-c78a-4fb53cef648a",
        "colab": {
          "base_uri": "https://localhost:8080/",
          "height": 466
        }
      },
      "source": [
        "color=['g','r']\n",
        "pd.crosstab(healthdata['work_type'],healthdata['stroke']).plot(kind='bar',figsize=(6,6),color=color)\n",
        "plt.title('job type vs stroke')\n",
        "plt.ylabel('count')\n",
        "plt.show()"
      ],
      "execution_count": 111,
      "outputs": [
        {
          "output_type": "display_data",
          "data": {
            "image/png": "[encoded data removed]",
            "text/plain": [
              "<Figure size 432x432 with 1 Axes>"
            ]
          },
          "metadata": {
            "tags": [],
            "needs_background": "light"
          }
        }
      ]
    },
    {
      "cell_type": "markdown",
      "metadata": {
        "id": "xyBHM802Uha9"
      },
      "source": [
        "we can see that most people who suffered from stroke were in the private sector then followed by self-employed people.\n",
        "\n",
        "We will conduct a chi-squared test to accertain if work type can have an influence to someone stroke or not"
      ]
    },
    {
      "cell_type": "code",
      "metadata": {
        "id": "X_8xqg-yUlnX",
        "outputId": "56d4b7df-8d45-4f9c-b79c-3baed2e4c32e",
        "colab": {
          "base_uri": "https://localhost:8080/"
        }
      },
      "source": [
        "stats.chi2_contingency(pd.crosstab(healthdata['work_type'],healthdata['stroke']))"
      ],
      "execution_count": 77,
      "outputs": [
        {
          "output_type": "execute_result",
          "data": {
            "text/plain": [
              "(41.95098747365517,\n",
              " 1.7076444710201084e-08,\n",
              " 4,\n",
              " array([[6.03172372e+02, 2.68276284e+01],\n",
              "        [2.10631622e+01, 9.36837816e-01],\n",
              "        [2.69034026e+03, 1.19659739e+02],\n",
              "        [7.41997759e+02, 3.30022412e+01],\n",
              "        [6.42426447e+02, 2.85735534e+01]]))"
            ]
          },
          "metadata": {
            "tags": []
          },
          "execution_count": 77
        }
      ]
    },
    {
      "cell_type": "markdown",
      "metadata": {
        "id": "wgZyFJL0UrP-"
      },
      "source": [
        "from the test results above, we can see that the p-value is less than 0.05\n",
        "\n",
        "because of this we can reject the null hypothesis\n",
        "\n",
        "this can be interpreted to mean that the work type of an individual can influence whether they have stroke or not"
      ]
    },
    {
      "cell_type": "markdown",
      "metadata": {
        "id": "VcAD46aGRJao"
      },
      "source": [
        "#### Residence and Stroke"
      ]
    },
    {
      "cell_type": "code",
      "metadata": {
        "id": "AG_pWHfOVG2l",
        "outputId": "da2b4cfa-2248-438a-8465-b0337d4e54be",
        "colab": {
          "base_uri": "https://localhost:8080/",
          "height": 173
        }
      },
      "source": [
        "pd.crosstab(healthdata['residence_type'],healthdata['stroke'],margins=True,margins_name='Total')"
      ],
      "execution_count": 78,
      "outputs": [
        {
          "output_type": "execute_result",
          "data": {
            "text/html": [
              "<div>\n",
              "<style scoped>\n",
              "    .dataframe tbody tr th:only-of-type {\n",
              "        vertical-align: middle;\n",
              "    }\n",
              "\n",
              "    .dataframe tbody tr th {\n",
              "        vertical-align: top;\n",
              "    }\n",
              "\n",
              "    .dataframe thead th {\n",
              "        text-align: right;\n",
              "    }\n",
              "</style>\n",
              "<table border=\"1\" class=\"dataframe\">\n",
              "  <thead>\n",
              "    <tr style=\"text-align: right;\">\n",
              "      <th>stroke</th>\n",
              "      <th>0</th>\n",
              "      <th>1</th>\n",
              "      <th>Total</th>\n",
              "    </tr>\n",
              "    <tr>\n",
              "      <th>residence_type</th>\n",
              "      <th></th>\n",
              "      <th></th>\n",
              "      <th></th>\n",
              "    </tr>\n",
              "  </thead>\n",
              "  <tbody>\n",
              "    <tr>\n",
              "      <th>Rural</th>\n",
              "      <td>2318</td>\n",
              "      <td>100</td>\n",
              "      <td>2418</td>\n",
              "    </tr>\n",
              "    <tr>\n",
              "      <th>Urban</th>\n",
              "      <td>2381</td>\n",
              "      <td>109</td>\n",
              "      <td>2490</td>\n",
              "    </tr>\n",
              "    <tr>\n",
              "      <th>Total</th>\n",
              "      <td>4699</td>\n",
              "      <td>209</td>\n",
              "      <td>4908</td>\n",
              "    </tr>\n",
              "  </tbody>\n",
              "</table>\n",
              "</div>"
            ],
            "text/plain": [
              "stroke             0    1  Total\n",
              "residence_type                  \n",
              "Rural           2318  100   2418\n",
              "Urban           2381  109   2490\n",
              "Total           4699  209   4908"
            ]
          },
          "metadata": {
            "tags": []
          },
          "execution_count": 78
        }
      ]
    },
    {
      "cell_type": "code",
      "metadata": {
        "id": "muiHx123VH1N",
        "outputId": "662504df-7447-4f8f-878d-b26b7e2c3069",
        "colab": {
          "base_uri": "https://localhost:8080/",
          "height": 425
        }
      },
      "source": [
        "color=['g','r']\n",
        "pd.crosstab(healthdata['residence_type'],healthdata['stroke']).plot(kind='bar',figsize=(6,6),color=color)\n",
        "plt.title('residence vs stroke')\n",
        "plt.ylabel('count')\n",
        "plt.show()"
      ],
      "execution_count": 112,
      "outputs": [
        {
          "output_type": "display_data",
          "data": {
            "image/png": "[encoded data removed]",
            "text/plain": [
              "<Figure size 432x432 with 1 Axes>"
            ]
          },
          "metadata": {
            "tags": [],
            "needs_background": "light"
          }
        }
      ]
    },
    {
      "cell_type": "markdown",
      "metadata": {
        "id": "dh0qLTZ6VNhC"
      },
      "source": [
        "from the plot,we can see that the number of people who have stroke in both urban and rural areas is almost the same\n",
        "\n",
        "We will carry out a chi-squared test to accertain if residency can influence someone to having stoke or not"
      ]
    },
    {
      "cell_type": "code",
      "metadata": {
        "id": "D5Q1plC8VQvJ",
        "outputId": "4beec3fc-373e-4bed-94d5-7906b6f7833a",
        "colab": {
          "base_uri": "https://localhost:8080/"
        }
      },
      "source": [
        "stats.chi2_contingency(pd.crosstab(healthdata['residence_type'],healthdata['stroke']))"
      ],
      "execution_count": 80,
      "outputs": [
        {
          "output_type": "execute_result",
          "data": {
            "text/plain": [
              "(0.12168638903015402,\n",
              " 0.7272126134406378,\n",
              " 1,\n",
              " array([[2315.03300733,  102.96699267],\n",
              "        [2383.96699267,  106.03300733]]))"
            ]
          },
          "metadata": {
            "tags": []
          },
          "execution_count": 80
        }
      ]
    },
    {
      "cell_type": "markdown",
      "metadata": {
        "id": "K5GzfWXoVTJm"
      },
      "source": [
        "from the results above, we can see that the p-value is greater than 0.05\n",
        "\n",
        "because of this we fail to reject the null hypothesis\n",
        "\n",
        "This is interpreted to mean that residency and someone having stoke are not related"
      ]
    },
    {
      "cell_type": "markdown",
      "metadata": {
        "id": "iKQLTSbKRQcN"
      },
      "source": [
        "#### Smoking Status and Stroke"
      ]
    },
    {
      "cell_type": "code",
      "metadata": {
        "id": "5dXnyjl4VwYj",
        "outputId": "87033596-ca61-4efa-ca14-c78b0f7d095f",
        "colab": {
          "base_uri": "https://localhost:8080/",
          "height": 235
        }
      },
      "source": [
        "pd.crosstab(healthdata['smoking_status'],healthdata['stroke'],margins=True,margins_name='Total')"
      ],
      "execution_count": 81,
      "outputs": [
        {
          "output_type": "execute_result",
          "data": {
            "text/html": [
              "<div>\n",
              "<style scoped>\n",
              "    .dataframe tbody tr th:only-of-type {\n",
              "        vertical-align: middle;\n",
              "    }\n",
              "\n",
              "    .dataframe tbody tr th {\n",
              "        vertical-align: top;\n",
              "    }\n",
              "\n",
              "    .dataframe thead th {\n",
              "        text-align: right;\n",
              "    }\n",
              "</style>\n",
              "<table border=\"1\" class=\"dataframe\">\n",
              "  <thead>\n",
              "    <tr style=\"text-align: right;\">\n",
              "      <th>stroke</th>\n",
              "      <th>0</th>\n",
              "      <th>1</th>\n",
              "      <th>Total</th>\n",
              "    </tr>\n",
              "    <tr>\n",
              "      <th>smoking_status</th>\n",
              "      <th></th>\n",
              "      <th></th>\n",
              "      <th></th>\n",
              "    </tr>\n",
              "  </thead>\n",
              "  <tbody>\n",
              "    <tr>\n",
              "      <th>Unknown</th>\n",
              "      <td>1454</td>\n",
              "      <td>29</td>\n",
              "      <td>1483</td>\n",
              "    </tr>\n",
              "    <tr>\n",
              "      <th>formerly smoked</th>\n",
              "      <td>779</td>\n",
              "      <td>57</td>\n",
              "      <td>836</td>\n",
              "    </tr>\n",
              "    <tr>\n",
              "      <th>never smoked</th>\n",
              "      <td>1768</td>\n",
              "      <td>84</td>\n",
              "      <td>1852</td>\n",
              "    </tr>\n",
              "    <tr>\n",
              "      <th>smokes</th>\n",
              "      <td>698</td>\n",
              "      <td>39</td>\n",
              "      <td>737</td>\n",
              "    </tr>\n",
              "    <tr>\n",
              "      <th>Total</th>\n",
              "      <td>4699</td>\n",
              "      <td>209</td>\n",
              "      <td>4908</td>\n",
              "    </tr>\n",
              "  </tbody>\n",
              "</table>\n",
              "</div>"
            ],
            "text/plain": [
              "stroke              0    1  Total\n",
              "smoking_status                   \n",
              "Unknown          1454   29   1483\n",
              "formerly smoked   779   57    836\n",
              "never smoked     1768   84   1852\n",
              "smokes            698   39    737\n",
              "Total            4699  209   4908"
            ]
          },
          "metadata": {
            "tags": []
          },
          "execution_count": 81
        }
      ]
    },
    {
      "cell_type": "code",
      "metadata": {
        "id": "RSp5TO2mVyUM",
        "outputId": "f0c0e171-c728-470a-ba70-54ad2b8df0fa",
        "colab": {
          "base_uri": "https://localhost:8080/",
          "height": 479
        }
      },
      "source": [
        "color=['g','r']\n",
        "pd.crosstab(healthdata['smoking_status'],healthdata['stroke']).plot(kind='bar',figsize=(6,6),color=color)\n",
        "plt.ylabel('count')\n",
        "plt.title('smoking history vs stroke')\n",
        "plt.show()"
      ],
      "execution_count": 113,
      "outputs": [
        {
          "output_type": "display_data",
          "data": {
            "image/png": "[encoded data removed]",
            "text/plain": [
              "<Figure size 432x432 with 1 Axes>"
            ]
          },
          "metadata": {
            "tags": [],
            "needs_background": "light"
          }
        }
      ]
    },
    {
      "cell_type": "markdown",
      "metadata": {
        "id": "EUCOyVSAV2iG"
      },
      "source": [
        "from the plot above, we can see an interesting observation, that majority of the people who suffered from stroke had never smoked.\n",
        "\n",
        "we perfrom a chi squared test to accertain if smoking habits can influence someone to having stroke"
      ]
    },
    {
      "cell_type": "code",
      "metadata": {
        "id": "xDKFTyJFV5D9",
        "outputId": "9839839f-85a4-4914-aae3-c1d38ac8a72e",
        "colab": {
          "base_uri": "https://localhost:8080/"
        }
      },
      "source": [
        "stats.chi2_contingency(pd.crosstab(healthdata['smoking_status'],healthdata['stroke']))"
      ],
      "execution_count": 83,
      "outputs": [
        {
          "output_type": "execute_result",
          "data": {
            "text/plain": [
              "(35.00610957091103,\n",
              " 1.2146342910949484e-07,\n",
              " 3,\n",
              " array([[1419.84861451,   63.15138549],\n",
              "        [ 800.400163  ,   35.599837  ],\n",
              "        [1773.13528932,   78.86471068],\n",
              "        [ 705.61593317,   31.38406683]]))"
            ]
          },
          "metadata": {
            "tags": []
          },
          "execution_count": 83
        }
      ]
    },
    {
      "cell_type": "markdown",
      "metadata": {
        "id": "gImi4LCqV8di"
      },
      "source": [
        "From the test results above, we can see that the p-value is less than 0.05\n",
        "\n",
        "This means that the null hypothesis can be rejected\n",
        "\n",
        "This can be interpred to mean that the smoking habits of an indivdual can have an influence on whether they will have stroke or not"
      ]
    },
    {
      "cell_type": "markdown",
      "metadata": {
        "id": "QrpL0o1fSDqm"
      },
      "source": [
        "### Multivariate Analysis"
      ]
    },
    {
      "cell_type": "code",
      "metadata": {
        "colab": {
          "base_uri": "https://localhost:8080/",
          "height": 0
        },
        "id": "LD1ItUc4qqsx",
        "outputId": "0299b9dd-9d8a-4f5f-8682-9e3f6bf84558"
      },
      "source": [
        "# preview data set\n",
        "healthdata.head()"
      ],
      "execution_count": 84,
      "outputs": [
        {
          "output_type": "execute_result",
          "data": {
            "text/html": [
              "<div>\n",
              "<style scoped>\n",
              "    .dataframe tbody tr th:only-of-type {\n",
              "        vertical-align: middle;\n",
              "    }\n",
              "\n",
              "    .dataframe tbody tr th {\n",
              "        vertical-align: top;\n",
              "    }\n",
              "\n",
              "    .dataframe thead th {\n",
              "        text-align: right;\n",
              "    }\n",
              "</style>\n",
              "<table border=\"1\" class=\"dataframe\">\n",
              "  <thead>\n",
              "    <tr style=\"text-align: right;\">\n",
              "      <th></th>\n",
              "      <th>gender</th>\n",
              "      <th>age</th>\n",
              "      <th>hypertension</th>\n",
              "      <th>heart_disease</th>\n",
              "      <th>ever_married</th>\n",
              "      <th>work_type</th>\n",
              "      <th>residence_type</th>\n",
              "      <th>avg_glucose_level</th>\n",
              "      <th>bmi</th>\n",
              "      <th>smoking_status</th>\n",
              "      <th>stroke</th>\n",
              "    </tr>\n",
              "  </thead>\n",
              "  <tbody>\n",
              "    <tr>\n",
              "      <th>0</th>\n",
              "      <td>Male</td>\n",
              "      <td>67.0</td>\n",
              "      <td>0</td>\n",
              "      <td>1</td>\n",
              "      <td>Yes</td>\n",
              "      <td>Private</td>\n",
              "      <td>Urban</td>\n",
              "      <td>228.69</td>\n",
              "      <td>36.6</td>\n",
              "      <td>formerly smoked</td>\n",
              "      <td>1</td>\n",
              "    </tr>\n",
              "    <tr>\n",
              "      <th>2</th>\n",
              "      <td>Male</td>\n",
              "      <td>80.0</td>\n",
              "      <td>0</td>\n",
              "      <td>1</td>\n",
              "      <td>Yes</td>\n",
              "      <td>Private</td>\n",
              "      <td>Rural</td>\n",
              "      <td>105.92</td>\n",
              "      <td>32.5</td>\n",
              "      <td>never smoked</td>\n",
              "      <td>1</td>\n",
              "    </tr>\n",
              "    <tr>\n",
              "      <th>3</th>\n",
              "      <td>Female</td>\n",
              "      <td>49.0</td>\n",
              "      <td>0</td>\n",
              "      <td>0</td>\n",
              "      <td>Yes</td>\n",
              "      <td>Private</td>\n",
              "      <td>Urban</td>\n",
              "      <td>171.23</td>\n",
              "      <td>34.4</td>\n",
              "      <td>smokes</td>\n",
              "      <td>1</td>\n",
              "    </tr>\n",
              "    <tr>\n",
              "      <th>4</th>\n",
              "      <td>Female</td>\n",
              "      <td>79.0</td>\n",
              "      <td>1</td>\n",
              "      <td>0</td>\n",
              "      <td>Yes</td>\n",
              "      <td>Self-employed</td>\n",
              "      <td>Rural</td>\n",
              "      <td>174.12</td>\n",
              "      <td>24.0</td>\n",
              "      <td>never smoked</td>\n",
              "      <td>1</td>\n",
              "    </tr>\n",
              "    <tr>\n",
              "      <th>5</th>\n",
              "      <td>Male</td>\n",
              "      <td>81.0</td>\n",
              "      <td>0</td>\n",
              "      <td>0</td>\n",
              "      <td>Yes</td>\n",
              "      <td>Private</td>\n",
              "      <td>Urban</td>\n",
              "      <td>186.21</td>\n",
              "      <td>29.0</td>\n",
              "      <td>formerly smoked</td>\n",
              "      <td>1</td>\n",
              "    </tr>\n",
              "  </tbody>\n",
              "</table>\n",
              "</div>"
            ],
            "text/plain": [
              "   gender   age  hypertension  ...   bmi   smoking_status stroke\n",
              "0    Male  67.0             0  ...  36.6  formerly smoked      1\n",
              "2    Male  80.0             0  ...  32.5     never smoked      1\n",
              "3  Female  49.0             0  ...  34.4           smokes      1\n",
              "4  Female  79.0             1  ...  24.0     never smoked      1\n",
              "5    Male  81.0             0  ...  29.0  formerly smoked      1\n",
              "\n",
              "[5 rows x 11 columns]"
            ]
          },
          "metadata": {
            "tags": []
          },
          "execution_count": 84
        }
      ]
    },
    {
      "cell_type": "code",
      "metadata": {
        "id": "qEQtX0Gqu5BT"
      },
      "source": [
        "# Separating numerical and categorical columns\n",
        "ob = healthdata.select_dtypes(include =\"object\")\n",
        "num = healthdata.select_dtypes(exclude=\"object\")"
      ],
      "execution_count": 85,
      "outputs": []
    },
    {
      "cell_type": "code",
      "metadata": {
        "id": "SP4qmSQkwuJK"
      },
      "source": [
        "# creating dummy variable for categorical columns\n",
        "dummies = pd.get_dummies(ob,drop_first=True)\n",
        "final_healthdata = pd.concat([dummies,num],axis=1)"
      ],
      "execution_count": 86,
      "outputs": []
    },
    {
      "cell_type": "code",
      "metadata": {
        "id": "rGLuhmw_xnU6"
      },
      "source": [
        "# separating labels and features\n",
        "X = final_healthdata.drop('stroke',axis=1)\n",
        "y = final_healthdata['stroke']"
      ],
      "execution_count": 87,
      "outputs": []
    },
    {
      "cell_type": "code",
      "metadata": {
        "id": "pQBp_bleyLqR"
      },
      "source": [
        "# Importing and running model selection\n",
        "from sklearn.model_selection import train_test_split\n",
        "X_train,X_test,y_train,y_test = train_test_split(X,y,test_size=0.30,random_state=42)"
      ],
      "execution_count": 88,
      "outputs": []
    },
    {
      "cell_type": "code",
      "metadata": {
        "id": "kXupk8cqzRxv"
      },
      "source": [
        "# importing standard scaler\n",
        "from sklearn.preprocessing  import StandardScaler"
      ],
      "execution_count": 89,
      "outputs": []
    },
    {
      "cell_type": "code",
      "metadata": {
        "id": "EeuX2UehzdpF"
      },
      "source": [
        "# scaling the data\n",
        "scaler = StandardScaler()\n",
        "X_train = scaler.fit_transform(X_train)\n",
        "X_test = scaler.transform(X_test)"
      ],
      "execution_count": 90,
      "outputs": []
    },
    {
      "cell_type": "code",
      "metadata": {
        "id": "VVxLViUKzB34"
      },
      "source": [
        "# importing and running LDA\n",
        "from sklearn.discriminant_analysis import LinearDiscriminantAnalysis as LDA\n",
        "lda = LDA(n_components=1)\n",
        "X_train = lda.fit_transform(X_train, y_train)\n",
        "X_test = lda.transform(X_test)\n",
        "\n",
        "from sklearn.ensemble import RandomForestClassifier\n",
        "classifier = RandomForestClassifier(max_depth=2, random_state=42)\n",
        "classifier.fit(X_train, y_train)\n",
        "y_pred = classifier.predict(X_test)"
      ],
      "execution_count": 91,
      "outputs": []
    },
    {
      "cell_type": "code",
      "metadata": {
        "id": "DTSLiJRG0fy2",
        "colab": {
          "base_uri": "https://localhost:8080/"
        },
        "outputId": "7125598b-f3fd-462b-e783-0f111068e521"
      },
      "source": [
        "# performance evaluation\n",
        "from sklearn.metrics import confusion_matrix\n",
        "from sklearn.metrics import accuracy_score\n",
        "\n",
        "cm = confusion_matrix(y_test, y_pred)\n",
        "print(cm)\n",
        "print('Accuracy' + str(accuracy_score(y_test, y_pred)))\n"
      ],
      "execution_count": 92,
      "outputs": [
        {
          "output_type": "stream",
          "text": [
            "[[1400    1]\n",
            " [  72    0]]\n",
            "Accuracy0.9504412763068567\n"
          ],
          "name": "stdout"
        }
      ]
    },
    {
      "cell_type": "markdown",
      "metadata": {
        "id": "COG-0a6OTbfM"
      },
      "source": [
        "## Sampling\n"
      ]
    },
    {
      "cell_type": "markdown",
      "metadata": {
        "id": "MNgSGznvWFo_"
      },
      "source": [
        "We are interested in the gae of people who suffered from stroke\n",
        "\n",
        "We will first filter their records"
      ]
    },
    {
      "cell_type": "code",
      "metadata": {
        "colab": {
          "base_uri": "https://localhost:8080/",
          "height": 0
        },
        "id": "afWgL20wWXnN",
        "outputId": "f67e2e3c-0796-49ad-a29a-fab710ea9386"
      },
      "source": [
        "sufferedstoke=healthdata[healthdata['stroke']==1]\n",
        "sufferedstoke.head()"
      ],
      "execution_count": 93,
      "outputs": [
        {
          "output_type": "execute_result",
          "data": {
            "text/html": [
              "<div>\n",
              "<style scoped>\n",
              "    .dataframe tbody tr th:only-of-type {\n",
              "        vertical-align: middle;\n",
              "    }\n",
              "\n",
              "    .dataframe tbody tr th {\n",
              "        vertical-align: top;\n",
              "    }\n",
              "\n",
              "    .dataframe thead th {\n",
              "        text-align: right;\n",
              "    }\n",
              "</style>\n",
              "<table border=\"1\" class=\"dataframe\">\n",
              "  <thead>\n",
              "    <tr style=\"text-align: right;\">\n",
              "      <th></th>\n",
              "      <th>gender</th>\n",
              "      <th>age</th>\n",
              "      <th>hypertension</th>\n",
              "      <th>heart_disease</th>\n",
              "      <th>ever_married</th>\n",
              "      <th>work_type</th>\n",
              "      <th>residence_type</th>\n",
              "      <th>avg_glucose_level</th>\n",
              "      <th>bmi</th>\n",
              "      <th>smoking_status</th>\n",
              "      <th>stroke</th>\n",
              "    </tr>\n",
              "  </thead>\n",
              "  <tbody>\n",
              "    <tr>\n",
              "      <th>0</th>\n",
              "      <td>Male</td>\n",
              "      <td>67.0</td>\n",
              "      <td>0</td>\n",
              "      <td>1</td>\n",
              "      <td>Yes</td>\n",
              "      <td>Private</td>\n",
              "      <td>Urban</td>\n",
              "      <td>228.69</td>\n",
              "      <td>36.6</td>\n",
              "      <td>formerly smoked</td>\n",
              "      <td>1</td>\n",
              "    </tr>\n",
              "    <tr>\n",
              "      <th>2</th>\n",
              "      <td>Male</td>\n",
              "      <td>80.0</td>\n",
              "      <td>0</td>\n",
              "      <td>1</td>\n",
              "      <td>Yes</td>\n",
              "      <td>Private</td>\n",
              "      <td>Rural</td>\n",
              "      <td>105.92</td>\n",
              "      <td>32.5</td>\n",
              "      <td>never smoked</td>\n",
              "      <td>1</td>\n",
              "    </tr>\n",
              "    <tr>\n",
              "      <th>3</th>\n",
              "      <td>Female</td>\n",
              "      <td>49.0</td>\n",
              "      <td>0</td>\n",
              "      <td>0</td>\n",
              "      <td>Yes</td>\n",
              "      <td>Private</td>\n",
              "      <td>Urban</td>\n",
              "      <td>171.23</td>\n",
              "      <td>34.4</td>\n",
              "      <td>smokes</td>\n",
              "      <td>1</td>\n",
              "    </tr>\n",
              "    <tr>\n",
              "      <th>4</th>\n",
              "      <td>Female</td>\n",
              "      <td>79.0</td>\n",
              "      <td>1</td>\n",
              "      <td>0</td>\n",
              "      <td>Yes</td>\n",
              "      <td>Self-employed</td>\n",
              "      <td>Rural</td>\n",
              "      <td>174.12</td>\n",
              "      <td>24.0</td>\n",
              "      <td>never smoked</td>\n",
              "      <td>1</td>\n",
              "    </tr>\n",
              "    <tr>\n",
              "      <th>5</th>\n",
              "      <td>Male</td>\n",
              "      <td>81.0</td>\n",
              "      <td>0</td>\n",
              "      <td>0</td>\n",
              "      <td>Yes</td>\n",
              "      <td>Private</td>\n",
              "      <td>Urban</td>\n",
              "      <td>186.21</td>\n",
              "      <td>29.0</td>\n",
              "      <td>formerly smoked</td>\n",
              "      <td>1</td>\n",
              "    </tr>\n",
              "  </tbody>\n",
              "</table>\n",
              "</div>"
            ],
            "text/plain": [
              "   gender   age  hypertension  ...   bmi   smoking_status stroke\n",
              "0    Male  67.0             0  ...  36.6  formerly smoked      1\n",
              "2    Male  80.0             0  ...  32.5     never smoked      1\n",
              "3  Female  49.0             0  ...  34.4           smokes      1\n",
              "4  Female  79.0             1  ...  24.0     never smoked      1\n",
              "5    Male  81.0             0  ...  29.0  formerly smoked      1\n",
              "\n",
              "[5 rows x 11 columns]"
            ]
          },
          "metadata": {
            "tags": []
          },
          "execution_count": 93
        }
      ]
    },
    {
      "cell_type": "code",
      "metadata": {
        "colab": {
          "base_uri": "https://localhost:8080/"
        },
        "id": "q5SFG2u_XDco",
        "outputId": "08e5b02d-2853-4d84-ad91-946b1a43473b"
      },
      "source": [
        "sufferedstoke.shape"
      ],
      "execution_count": 94,
      "outputs": [
        {
          "output_type": "execute_result",
          "data": {
            "text/plain": [
              "(209, 11)"
            ]
          },
          "metadata": {
            "tags": []
          },
          "execution_count": 94
        }
      ]
    },
    {
      "cell_type": "markdown",
      "metadata": {
        "id": "svfCJj4pTpVD"
      },
      "source": [
        "We will create a proportionate stratified sample using our age column. Our sample size will be 50% of our total population, i.e 105 entries. "
      ]
    },
    {
      "cell_type": "code",
      "metadata": {
        "colab": {
          "base_uri": "https://localhost:8080/"
        },
        "id": "GOr2ddxneREL",
        "outputId": "fc31803a-672d-401e-c525-675dc642fb14"
      },
      "source": [
        "# We are going to appliy a function that puts each subset into a random sample with a size of 245 while strictly maintaining the population's proportions.\n",
        "\n",
        "# Stratified sample\n",
        "healthdata_sample = sufferedstoke.groupby('age', group_keys=False).apply(lambda grouped_subset : grouped_subset.sample(frac=0.5))\n",
        "\n",
        "# proportion of the non_stratified sample\n",
        "print(healthdata_sample['age'].value_counts())\n",
        "\n",
        "# Check the stratified output\n",
        "print(healthdata_sample)"
      ],
      "execution_count": 95,
      "outputs": [
        {
          "output_type": "stream",
          "text": [
            "80.0    8\n",
            "78.0    8\n",
            "81.0    7\n",
            "79.0    6\n",
            "57.0    5\n",
            "82.0    4\n",
            "77.0    4\n",
            "63.0    4\n",
            "74.0    4\n",
            "68.0    4\n",
            "70.0    3\n",
            "69.0    3\n",
            "59.0    3\n",
            "54.0    3\n",
            "60.0    2\n",
            "56.0    2\n",
            "50.0    2\n",
            "58.0    2\n",
            "49.0    2\n",
            "45.0    2\n",
            "51.0    2\n",
            "39.0    2\n",
            "61.0    2\n",
            "66.0    2\n",
            "67.0    2\n",
            "71.0    2\n",
            "72.0    2\n",
            "73.0    2\n",
            "75.0    2\n",
            "76.0    2\n",
            "65.0    1\n",
            "55.0    1\n",
            "53.0    1\n",
            "52.0    1\n",
            "48.0    1\n",
            "64.0    1\n",
            "Name: age, dtype: int64\n",
            "     gender   age  hypertension  ...   bmi   smoking_status stroke\n",
            "228  Female  39.0             0  ...  29.6           smokes      1\n",
            "49   Female  39.0             1  ...  39.2           smokes      1\n",
            "113  Female  45.0             0  ...  56.6     never smoked      1\n",
            "63   Female  45.0             0  ...  30.2  formerly smoked      1\n",
            "34     Male  48.0             0  ...  29.7     never smoked      1\n",
            "..      ...   ...           ...  ...   ...              ...    ...\n",
            "220    Male  81.0             1  ...  28.1           smokes      1\n",
            "23     Male  82.0             0  ...  32.5          Unknown      1\n",
            "42     Male  82.0             0  ...  26.4           smokes      1\n",
            "188    Male  82.0             0  ...  29.5  formerly smoked      1\n",
            "56   Female  82.0             0  ...  33.2     never smoked      1\n",
            "\n",
            "[104 rows x 11 columns]\n"
          ],
          "name": "stdout"
        }
      ]
    },
    {
      "cell_type": "markdown",
      "metadata": {
        "id": "_qsDpbGFTrgE"
      },
      "source": [
        "## Hypothesis Testing"
      ]
    },
    {
      "cell_type": "markdown",
      "metadata": {
        "id": "lLcl2_E4UPlr"
      },
      "source": [
        "Hypothesis\n",
        "\n",
        "H0 : Mean Age of Stroke Patients is equal to worlds life expectancy rate\n",
        "\n",
        "H1 : Mean age of Stroke Patients is not equal to the worlds life expectancy rate"
      ]
    },
    {
      "cell_type": "markdown",
      "metadata": {
        "id": "E4UdbXnHUjoU"
      },
      "source": [
        "To do this hypothesis, We will have to look if the assumptions on the data are in place\n",
        "\n",
        "- Dependnent variable is continous\n",
        "- Dependnent variable should be approximately normally distributed\n",
        "- There should be no significant outliers"
      ]
    },
    {
      "cell_type": "markdown",
      "metadata": {
        "id": "4SOQLYncUray"
      },
      "source": [
        "statistics for the age of stroke patients"
      ]
    },
    {
      "cell_type": "code",
      "metadata": {
        "colab": {
          "base_uri": "https://localhost:8080/"
        },
        "id": "aNCXulbQTyz0",
        "outputId": "dece698d-7d88-4538-978e-763bd2cf7e82"
      },
      "source": [
        "meanageofstroke=healthdata_sample['age'].mean()\n",
        "standard_deviation_of_stroke_patients_age=healthdata_sample['age'].std()\n",
        "global_life_expectancy_rate=72.6\n",
        "\n",
        "print('mean age of stroke patients :',healthdata_sample['age'].mean())\n",
        "print('standard deviation of stroke patients age',healthdata_sample['age'].std())\n",
        "print('kurtosis of age of stroke patients',healthdata_sample['age'].kurt())\n",
        "print('skewness of age of stroke patients',healthdata_sample['age'].skew())\n",
        "print('global life expectancy rate :',global_life_expectancy_rate)"
      ],
      "execution_count": 96,
      "outputs": [
        {
          "output_type": "stream",
          "text": [
            "mean age of stroke patients : 68.04807692307692\n",
            "standard deviation of stroke patients age 11.438633063568279\n",
            "kurtosis of age of stroke patients -0.7131113024650362\n",
            "skewness of age of stroke patients -0.5996829827962852\n",
            "global life expectancy rate : 72.6\n"
          ],
          "name": "stdout"
        }
      ]
    },
    {
      "cell_type": "markdown",
      "metadata": {
        "id": "wSwqZiTPcMTQ"
      },
      "source": [
        "Distribution of age of stroke patients"
      ]
    },
    {
      "cell_type": "code",
      "metadata": {
        "colab": {
          "base_uri": "https://localhost:8080/",
          "height": 265
        },
        "id": "qGSGtVQTZBft",
        "outputId": "78613fa2-a9b8-483b-bb8d-296f70053c8a"
      },
      "source": [
        "healthdata_sample['age'].plot(kind='kde')\n",
        "plt.show()"
      ],
      "execution_count": 97,
      "outputs": [
        {
          "output_type": "display_data",
          "data": {
            "image/png": "[encoded data removed]",
            "text/plain": [
              "<Figure size 432x288 with 1 Axes>"
            ]
          },
          "metadata": {
            "tags": [],
            "needs_background": "light"
          }
        }
      ]
    },
    {
      "cell_type": "markdown",
      "metadata": {
        "id": "nvTgKErAclWk"
      },
      "source": [
        "- The column age is not normally distrbuted\n",
        "- We will conduct the shapiro wilk test to test for normality"
      ]
    },
    {
      "cell_type": "code",
      "metadata": {
        "colab": {
          "base_uri": "https://localhost:8080/"
        },
        "id": "3xWritjzdMf-",
        "outputId": "f95139e5-1f0a-4848-ef44-a1d38c9f080e"
      },
      "source": [
        "from scipy.stats import shapiro\n",
        "stats,p=shapiro(healthdata_sample['age'])\n",
        "print('statistics=%.3f,p=%.3f'%(stats,p))\n",
        "\n",
        "#decision rule\n",
        "alpha=0.05\n",
        "if p<alpha:\n",
        "  print('reject null hypothesis that the data is normally distributed')\n",
        "else: \n",
        "  print('data is normally distributed')"
      ],
      "execution_count": 98,
      "outputs": [
        {
          "output_type": "stream",
          "text": [
            "statistics=0.915,p=0.000\n",
            "reject null hypothesis that the data is normally distributed\n"
          ],
          "name": "stdout"
        }
      ]
    },
    {
      "cell_type": "markdown",
      "metadata": {
        "id": "k_CfM9BXeJSk"
      },
      "source": [
        "- from the shapiro wilk test, we confirm that the age is not normally distributed.\n",
        "- we will transform it into normall distribution by taking the log of age"
      ]
    },
    {
      "cell_type": "code",
      "metadata": {
        "colab": {
          "base_uri": "https://localhost:8080/"
        },
        "id": "gOcNrdtD2-q_",
        "outputId": "3edd46cc-74d3-46e3-de4e-5bedf846527b"
      },
      "source": [
        "import scipy.stats as stats\n",
        "\n",
        "# Perform one sample t-test\n",
        "stats.ttest_1samp(healthdata_sample['age'], popmean=72.6)"
      ],
      "execution_count": 99,
      "outputs": [
        {
          "output_type": "execute_result",
          "data": {
            "text/plain": [
              "Ttest_1sampResult(statistic=-4.058237459776266, pvalue=9.644972567471915e-05)"
            ]
          },
          "metadata": {
            "tags": []
          },
          "execution_count": 99
        }
      ]
    },
    {
      "cell_type": "markdown",
      "metadata": {
        "id": "w6Eq40VU-Fu9"
      },
      "source": [
        "Since the p-value is less than the required threshold, we reject the null hypothesis"
      ]
    }
  ]
}